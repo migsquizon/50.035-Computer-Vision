{
 "cells": [
  {
   "cell_type": "markdown",
   "metadata": {
    "colab_type": "text",
    "id": "XRTVV6L0tt8b"
   },
   "source": [
    "# Softmax exercise\n",
    "\n",
    "*Complete and hand in this completed worksheet (including its outputs and any supporting code outside of the worksheet) with your assignment submission.*\n",
    "\n",
    "In this exercise, you will:\n",
    "\n",
    "- implement a fully-vectorized **loss function** for the Softmax classifier\n",
    "- implement the fully-vectorized expression for its **analytic gradient**\n",
    "- **check your implementation** with numerical gradient\n",
    "- use a validation set to **tune the learning rate and regularization** strength\n",
    "- **optimize** the loss function with **SGD**\n",
    "- **visualize** the final learned weights\n"
   ]
  },
  {
   "cell_type": "code",
   "execution_count": 63,
   "metadata": {
    "colab": {
     "base_uri": "https://localhost:8080/",
     "height": 34
    },
    "colab_type": "code",
    "id": "iDrqgu5VuRHJ",
    "outputId": "44cfd9b2-f58e-4d71-b7ce-e81de9c32e5f"
   },
   "outputs": [
    {
     "name": "stdout",
     "output_type": "stream",
     "text": [
      "Drive already mounted at /content/gdrive; to attempt to forcibly remount, call drive.mount(\"/content/gdrive\", force_remount=True).\n"
     ]
    }
   ],
   "source": [
    "from google.colab import drive\n",
    "drive.mount('/content/gdrive')"
   ]
  },
  {
   "cell_type": "code",
   "execution_count": 64,
   "metadata": {
    "colab": {
     "base_uri": "https://localhost:8080/",
     "height": 136
    },
    "colab_type": "code",
    "id": "Z94Xc7aMueBU",
    "outputId": "9971597d-d018-4775-98e7-6e699b48af61"
   },
   "outputs": [
    {
     "name": "stdout",
     "output_type": "stream",
     "text": [
      "\u001b[0m\u001b[01;34mclassifiers\u001b[0m/   data_utils.pyc      \u001b[01;34mimgs\u001b[0m/        knn.ipynb      vis_utils.py\n",
      "\u001b[01;34mdatasets\u001b[0m/      gradient_check.py   __init__.py  \u001b[01;34m__pycache__\u001b[0m/\n",
      "data_utils.py  gradient_check.pyc  knn.html     softmax.ipynb\n",
      "/content/gdrive/My Drive/ComputerVision/50.035 Computer Vision/Lab1-Week2\n",
      "\u001b[0m\u001b[01;34mclassifiers\u001b[0m/   data_utils.pyc      \u001b[01;34mimgs\u001b[0m/        knn.ipynb      vis_utils.py\n",
      "\u001b[01;34mdatasets\u001b[0m/      gradient_check.py   __init__.py  \u001b[01;34m__pycache__\u001b[0m/\n",
      "data_utils.py  gradient_check.pyc  knn.html     softmax.ipynb\n"
     ]
    }
   ],
   "source": [
    "% pwd\n",
    "% ls\n",
    "% cd /content/gdrive/'My Drive'/'ComputerVision'/'50.035 Computer Vision'/'Lab1-Week2'\n",
    "% ls"
   ]
  },
  {
   "cell_type": "markdown",
   "metadata": {
    "colab_type": "text",
    "id": "w9RS-RVmtt8i"
   },
   "source": [
    "**Acknowledgement: This exercise is adapted from [Stanford CS231n](http://cs231n.stanford.edu/).**"
   ]
  },
  {
   "cell_type": "code",
   "execution_count": 0,
   "metadata": {
    "colab": {},
    "colab_type": "code",
    "id": "vu2ZlvJett8k"
   },
   "outputs": [],
   "source": [
    "import random\n",
    "import numpy as np\n",
    "from data_utils import load_CIFAR10\n",
    "import matplotlib.pyplot as plt\n",
    "\n",
    "%matplotlib inline\n",
    "plt.rcParams['figure.figsize'] = (10.0, 8.0) # set default size of plots\n",
    "plt.rcParams['image.interpolation'] = 'nearest'\n",
    "plt.rcParams['image.cmap'] = 'gray'\n",
    "\n",
    "# for auto-reloading extenrnal modules\n",
    "# see http://stackoverflow.com/questions/1907993/autoreload-of-modules-in-ipython\n",
    "%load_ext autoreload\n",
    "%autoreload 2"
   ]
  },
  {
   "cell_type": "code",
   "execution_count": 0,
   "metadata": {
    "colab": {},
    "colab_type": "code",
    "id": "0_4kA7JItt8t"
   },
   "outputs": [],
   "source": [
    "def rel_error(out, correct_out):\n",
    "    return np.sum(abs(out - correct_out) / (abs(out) + abs(correct_out)))"
   ]
  },
  {
   "cell_type": "code",
   "execution_count": 8,
   "metadata": {
    "colab": {
     "base_uri": "https://localhost:8080/",
     "height": 153
    },
    "colab_type": "code",
    "id": "1SKY8iEztt8y",
    "outputId": "18bf0abb-d99c-4b92-fde0-7fd1f4022190"
   },
   "outputs": [
    {
     "name": "stdout",
     "output_type": "stream",
     "text": [
      "Train data shape:  (49000, 3073)\n",
      "Train labels shape:  (49000,)\n",
      "Validation data shape:  (1000, 3073)\n",
      "Validation labels shape:  (1000,)\n",
      "Test data shape:  (1000, 3073)\n",
      "Test labels shape:  (1000,)\n",
      "dev data shape:  (500, 3073)\n",
      "dev labels shape:  (500,)\n"
     ]
    }
   ],
   "source": [
    "def get_CIFAR10_data(num_training=49000, num_validation=1000, num_test=1000, num_dev=500):\n",
    "    \"\"\"\n",
    "    Load the CIFAR-10 dataset from disk and perform preprocessing to prepare\n",
    "    it for the linear classifier. These are the same steps as we used for the\n",
    "    Softmax, but condensed to a single function.  \n",
    "    \"\"\"\n",
    "    # Load the raw CIFAR-10 data\n",
    "    cifar10_dir = 'datasets/cifar-10-batches-py'\n",
    "    X_train, y_train, X_test, y_test = load_CIFAR10(cifar10_dir)\n",
    "\n",
    "    # subsample the data\n",
    "    mask = range(num_training, num_training + num_validation)\n",
    "    X_val = X_train[mask]\n",
    "    y_val = y_train[mask]\n",
    "    mask = range(num_training)\n",
    "    X_train = X_train[mask]\n",
    "    y_train = y_train[mask]\n",
    "    mask = range(num_test)\n",
    "    X_test = X_test[mask]\n",
    "    y_test = y_test[mask]\n",
    "    \n",
    "    # # We will also make a development set, which is a small subset of\n",
    "    # the training set.\n",
    "    mask = np.random.choice(num_training, num_dev, replace=False)\n",
    "    X_dev = X_train[mask]\n",
    "    y_dev = y_train[mask]\n",
    "\n",
    "    # Preprocessing: reshape the image data into rows\n",
    "    X_train = np.reshape(X_train, (X_train.shape[0], -1))\n",
    "    X_val = np.reshape(X_val, (X_val.shape[0], -1))\n",
    "    X_test = np.reshape(X_test, (X_test.shape[0], -1))\n",
    "    X_dev = np.reshape(X_dev, (X_dev.shape[0], -1))\n",
    "\n",
    "    # Normalize the data: subtract the mean image\n",
    "    mean_image = np.mean(X_train, axis = 0)\n",
    "    X_train -= mean_image\n",
    "    X_val -= mean_image\n",
    "    X_test -= mean_image\n",
    "    X_dev -= mean_image\n",
    "\n",
    "    # add bias dimension and transform into columns\n",
    "    X_train = np.hstack([X_train, np.ones((X_train.shape[0], 1))])\n",
    "    X_val = np.hstack([X_val, np.ones((X_val.shape[0], 1))])\n",
    "    X_test = np.hstack([X_test, np.ones((X_test.shape[0], 1))])\n",
    "    X_dev = np.hstack([X_dev, np.ones((X_dev.shape[0], 1))])\n",
    "\n",
    "    return X_train, y_train, X_val, y_val, X_test, y_test, X_dev, y_dev\n",
    "\n",
    "\n",
    "# Invoke the above function to get our data.\n",
    "X_train, y_train, X_val, y_val, X_test, y_test, X_dev, y_dev = get_CIFAR10_data()\n",
    "print('Train data shape: ', X_train.shape)\n",
    "print('Train labels shape: ', y_train.shape)\n",
    "print('Validation data shape: ', X_val.shape)\n",
    "print('Validation labels shape: ', y_val.shape)\n",
    "print('Test data shape: ', X_test.shape)\n",
    "print('Test labels shape: ', y_test.shape)\n",
    "print('dev data shape: ', X_dev.shape)\n",
    "print('dev labels shape: ', y_dev.shape)"
   ]
  },
  {
   "cell_type": "code",
   "execution_count": 0,
   "metadata": {
    "colab": {},
    "colab_type": "code",
    "id": "nykbIzPitt83"
   },
   "outputs": [],
   "source": [
    "# Create one-hot vectors for label\n",
    "num_class = 10\n",
    "y_train_oh = np.zeros((y_train.shape[0], 10))\n",
    "y_train_oh[np.arange(y_train.shape[0]), y_train] = 1\n",
    "y_val_oh = np.zeros((y_val.shape[0], 10))\n",
    "y_val_oh[np.arange(y_val.shape[0]), y_val] = 1\n",
    "y_test_oh = np.zeros((y_test.shape[0], 10))\n",
    "y_test_oh[np.arange(y_test.shape[0]), y_test] = 1\n",
    "\n",
    "y_dev_oh = np.zeros((y_dev.shape[0], 10))\n",
    "y_dev_oh[np.arange(y_dev.shape[0]), y_dev] = 1"
   ]
  },
  {
   "cell_type": "code",
   "execution_count": 10,
   "metadata": {
    "colab": {
     "base_uri": "https://localhost:8080/",
     "height": 34
    },
    "colab_type": "code",
    "id": "lCxqR37OXZqD",
    "outputId": "6c028c12-88ae-4e50-99fd-d92a258be201"
   },
   "outputs": [
    {
     "name": "stdout",
     "output_type": "stream",
     "text": [
      "[0. 1. 0. 0. 0. 0. 0. 0. 0. 0.]\n"
     ]
    }
   ],
   "source": [
    "print(y_dev_oh[1])"
   ]
  },
  {
   "cell_type": "markdown",
   "metadata": {
    "colab_type": "text",
    "id": "lVxDTDNatt87"
   },
   "source": [
    "# Regression as classifier\n",
    "The most simple and straightforward approach to learn a classifier is to map the input data (raw image values) to class label (one-hot vector). The loss function is defined as following: \n",
    "$$\\mathcal{L}=\\frac{1}{n}\\|\\mathbf{X}\\mathbf{W}-\\mathbf{y}\\|_F^2\\qquad\\qquad(1)$$\n",
    "Where:\n",
    "* $\\mathbf{W}\\in \\mathbb{R}^{(d+1)\\times C}$: Classifier weight\n",
    "* $\\mathbf{X}\\in \\mathbb{R}^{n\\times (d+1)}$: Dataset\n",
    "* $\\mathbf{y}\\in \\mathbb{R}^{n\\times C}$: Class label (one-hot vector)"
   ]
  },
  {
   "cell_type": "markdown",
   "metadata": {
    "colab_type": "text",
    "id": "1aXo9-NXtt88"
   },
   "source": [
    "# Optimization\n",
    "Given the loss function (1), the next problem is how to solve the weight $\\mathbf{W}$. We now discuss 2 approaches: \n",
    " * Random search\n",
    " * Closed-form solution\n",
    "\n",
    "## Random search"
   ]
  },
  {
   "cell_type": "code",
   "execution_count": 11,
   "metadata": {
    "colab": {
     "base_uri": "https://localhost:8080/",
     "height": 1000
    },
    "colab_type": "code",
    "id": "gWMda6-Ctt8-",
    "outputId": "7baee42f-d960-4f7c-b6ca-767955e200fe"
   },
   "outputs": [
    {
     "name": "stdout",
     "output_type": "stream",
     "text": [
      "in attempt 0 the loss was 33.220927, best 33.220927\n",
      "in attempt 1 the loss was 35.336528, best 33.220927\n",
      "in attempt 2 the loss was 36.349952, best 33.220927\n",
      "in attempt 3 the loss was 33.264245, best 33.220927\n",
      "in attempt 4 the loss was 33.722160, best 33.220927\n",
      "in attempt 5 the loss was 32.766837, best 32.766837\n",
      "in attempt 6 the loss was 32.862774, best 32.766837\n",
      "in attempt 7 the loss was 33.026803, best 32.766837\n",
      "in attempt 8 the loss was 32.304954, best 32.304954\n",
      "in attempt 9 the loss was 32.759941, best 32.304954\n",
      "in attempt 10 the loss was 35.154663, best 32.304954\n",
      "in attempt 11 the loss was 32.786710, best 32.304954\n",
      "in attempt 12 the loss was 34.045228, best 32.304954\n",
      "in attempt 13 the loss was 34.422591, best 32.304954\n",
      "in attempt 14 the loss was 35.023994, best 32.304954\n",
      "in attempt 15 the loss was 33.858456, best 32.304954\n",
      "in attempt 16 the loss was 31.395205, best 31.395205\n",
      "in attempt 17 the loss was 35.994833, best 31.395205\n",
      "in attempt 18 the loss was 32.942437, best 31.395205\n",
      "in attempt 19 the loss was 35.710994, best 31.395205\n",
      "in attempt 20 the loss was 34.506246, best 31.395205\n",
      "in attempt 21 the loss was 35.308798, best 31.395205\n",
      "in attempt 22 the loss was 32.709971, best 31.395205\n",
      "in attempt 23 the loss was 32.229376, best 31.395205\n",
      "in attempt 24 the loss was 33.762713, best 31.395205\n",
      "in attempt 25 the loss was 32.167688, best 31.395205\n",
      "in attempt 26 the loss was 32.160995, best 31.395205\n",
      "in attempt 27 the loss was 33.412786, best 31.395205\n",
      "in attempt 28 the loss was 31.843051, best 31.395205\n",
      "in attempt 29 the loss was 30.843746, best 30.843746\n",
      "in attempt 30 the loss was 34.291631, best 30.843746\n",
      "in attempt 31 the loss was 35.674695, best 30.843746\n",
      "in attempt 32 the loss was 33.394760, best 30.843746\n",
      "in attempt 33 the loss was 33.817655, best 30.843746\n",
      "in attempt 34 the loss was 34.607865, best 30.843746\n",
      "in attempt 35 the loss was 34.400416, best 30.843746\n",
      "in attempt 36 the loss was 33.853597, best 30.843746\n",
      "in attempt 37 the loss was 33.001468, best 30.843746\n",
      "in attempt 38 the loss was 32.493061, best 30.843746\n",
      "in attempt 39 the loss was 33.513027, best 30.843746\n",
      "in attempt 40 the loss was 32.373056, best 30.843746\n",
      "in attempt 41 the loss was 32.092613, best 30.843746\n",
      "in attempt 42 the loss was 34.349599, best 30.843746\n",
      "in attempt 43 the loss was 34.838100, best 30.843746\n",
      "in attempt 44 the loss was 33.271327, best 30.843746\n",
      "in attempt 45 the loss was 31.327345, best 30.843746\n",
      "in attempt 46 the loss was 34.795485, best 30.843746\n",
      "in attempt 47 the loss was 31.109694, best 30.843746\n",
      "in attempt 48 the loss was 33.454653, best 30.843746\n",
      "in attempt 49 the loss was 30.573728, best 30.573728\n",
      "in attempt 50 the loss was 34.910606, best 30.573728\n",
      "in attempt 51 the loss was 32.959050, best 30.573728\n",
      "in attempt 52 the loss was 32.932293, best 30.573728\n",
      "in attempt 53 the loss was 32.197440, best 30.573728\n",
      "in attempt 54 the loss was 30.509522, best 30.509522\n",
      "in attempt 55 the loss was 32.120682, best 30.509522\n",
      "in attempt 56 the loss was 32.723988, best 30.509522\n",
      "in attempt 57 the loss was 34.476085, best 30.509522\n",
      "in attempt 58 the loss was 33.000598, best 30.509522\n",
      "in attempt 59 the loss was 33.522629, best 30.509522\n",
      "in attempt 60 the loss was 32.239738, best 30.509522\n",
      "in attempt 61 the loss was 31.846784, best 30.509522\n",
      "in attempt 62 the loss was 35.196294, best 30.509522\n",
      "in attempt 63 the loss was 36.061241, best 30.509522\n",
      "in attempt 64 the loss was 31.233580, best 30.509522\n",
      "in attempt 65 the loss was 35.048483, best 30.509522\n",
      "in attempt 66 the loss was 31.505162, best 30.509522\n",
      "in attempt 67 the loss was 32.127326, best 30.509522\n",
      "in attempt 68 the loss was 31.845492, best 30.509522\n",
      "in attempt 69 the loss was 33.045480, best 30.509522\n",
      "in attempt 70 the loss was 34.069378, best 30.509522\n",
      "in attempt 71 the loss was 31.271228, best 30.509522\n",
      "in attempt 72 the loss was 34.067896, best 30.509522\n",
      "in attempt 73 the loss was 33.636570, best 30.509522\n",
      "in attempt 74 the loss was 34.335555, best 30.509522\n",
      "in attempt 75 the loss was 33.006466, best 30.509522\n",
      "in attempt 76 the loss was 32.097595, best 30.509522\n",
      "in attempt 77 the loss was 32.740966, best 30.509522\n",
      "in attempt 78 the loss was 32.832032, best 30.509522\n",
      "in attempt 79 the loss was 32.245368, best 30.509522\n",
      "in attempt 80 the loss was 34.823755, best 30.509522\n",
      "in attempt 81 the loss was 32.822308, best 30.509522\n",
      "in attempt 82 the loss was 34.185282, best 30.509522\n",
      "in attempt 83 the loss was 34.213365, best 30.509522\n",
      "in attempt 84 the loss was 32.714298, best 30.509522\n",
      "in attempt 85 the loss was 33.919095, best 30.509522\n",
      "in attempt 86 the loss was 31.504482, best 30.509522\n",
      "in attempt 87 the loss was 34.376717, best 30.509522\n",
      "in attempt 88 the loss was 31.887207, best 30.509522\n",
      "in attempt 89 the loss was 36.106530, best 30.509522\n",
      "in attempt 90 the loss was 31.281033, best 30.509522\n",
      "in attempt 91 the loss was 32.284395, best 30.509522\n",
      "in attempt 92 the loss was 31.835255, best 30.509522\n",
      "in attempt 93 the loss was 30.904338, best 30.509522\n",
      "in attempt 94 the loss was 33.662041, best 30.509522\n",
      "in attempt 95 the loss was 35.334176, best 30.509522\n",
      "in attempt 96 the loss was 31.988596, best 30.509522\n",
      "in attempt 97 the loss was 34.256110, best 30.509522\n",
      "in attempt 98 the loss was 33.913416, best 30.509522\n",
      "in attempt 99 the loss was 33.252592, best 30.509522\n"
     ]
    }
   ],
   "source": [
    "bestloss = float('inf')\n",
    "for num in range(100):\n",
    "    W = np.random.randn(3073, 10) * 0.0001\n",
    "    loss = np.linalg.norm(X_dev.dot(W) - y_dev_oh)\n",
    "    if (loss < bestloss):\n",
    "        bestloss = loss\n",
    "        bestW = W\n",
    "    print('in attempt %d the loss was %f, best %f' % (num, loss, bestloss))"
   ]
  },
  {
   "cell_type": "code",
   "execution_count": 12,
   "metadata": {
    "colab": {
     "base_uri": "https://localhost:8080/",
     "height": 51
    },
    "colab_type": "code",
    "id": "gteZJRAatt9D",
    "outputId": "4d26f739-eb47-4210-af8b-cd6fdc810aa6"
   },
   "outputs": [
    {
     "name": "stdout",
     "output_type": "stream",
     "text": [
      "Accuracy on train set:  11.200000000000001\n",
      "Accuracy on test set:  10.9\n"
     ]
    }
   ],
   "source": [
    "# How bestW perform:\n",
    "print('Accuracy on train set: ', np.sum(np.argmin(np.abs(1 - X_dev.dot(W)), axis=1) == y_dev).astype(np.float32)/y_dev.shape[0]*100)\n",
    "print('Accuracy on test set: ', np.sum(np.argmin(np.abs(1 - X_test.dot(W)), axis=1) == y_test).astype(np.float32)/y_test.shape[0]*100)"
   ]
  },
  {
   "cell_type": "markdown",
   "metadata": {
    "colab_type": "text",
    "id": "eRy9a570tt9H"
   },
   "source": [
    "You can clearly see that the performance is very low, almost at the random level."
   ]
  },
  {
   "cell_type": "markdown",
   "metadata": {
    "colab_type": "text",
    "id": "bOfHyQEztt9J"
   },
   "source": [
    "## Closed-form solution\n",
    "The closed-form solution is achieved by:\n",
    "$$\\frac{\\partial\\mathcal{L}}{\\partial \\mathbf{W}}=\\frac{2}{n}\\mathbf{X}^T(\\mathbf{X}\\mathbf{W}-\\mathbf{y})=0$$\n",
    "\n",
    "$$\\Leftrightarrow\\mathbf{W}^\\ast=(\\mathbf{X}^T\\mathbf{X})^{-1}\\mathbf{X}^T\\mathbf{y}$$"
   ]
  },
  {
   "cell_type": "code",
   "execution_count": 0,
   "metadata": {
    "colab": {},
    "colab_type": "code",
    "id": "bxRAGOudtt9L"
   },
   "outputs": [],
   "source": [
    "################################################################################\n",
    "# TODO:                                                                        #\n",
    "# Implement the closed-form solution of the weight W.                          #\n",
    "################################################################################\n",
    "W = np.dot(np.linalg.inv(np.dot(np.transpose(X_train),X_train)),np.dot(np.transpose(X_train),y_train_oh))\n",
    "################################################################################\n",
    "#                              END OF YOUR CODE                                #\n",
    "################################################################################"
   ]
  },
  {
   "cell_type": "code",
   "execution_count": 14,
   "metadata": {
    "colab": {
     "base_uri": "https://localhost:8080/",
     "height": 51
    },
    "colab_type": "code",
    "id": "7q3jVREitt9Q",
    "outputId": "d6d5e45b-6d2c-410a-d736-e3476bf56d6b"
   },
   "outputs": [
    {
     "name": "stdout",
     "output_type": "stream",
     "text": [
      "Train set accuracy:  51.163265306122454\n",
      "Test set accuracy:  36.199999999999996\n"
     ]
    }
   ],
   "source": [
    "# Check accuracy:\n",
    "print('Train set accuracy: ', np.sum(np.argmin(np.abs(1 - X_train.dot(W)), axis=1) == y_train).astype(np.float32)/y_train.shape[0]*100)\n",
    "print('Test set accuracy: ', np.sum(np.argmin(np.abs(1 - X_test.dot(W)), axis=1) == y_test).astype(np.float32)/y_test.shape[0]*100)"
   ]
  },
  {
   "cell_type": "markdown",
   "metadata": {
    "colab_type": "text",
    "id": "w8u65xuott9U"
   },
   "source": [
    "Now, you can see that the performance is much better."
   ]
  },
  {
   "cell_type": "markdown",
   "metadata": {
    "colab_type": "text",
    "id": "VknkdxnGtt9W"
   },
   "source": [
    "## Regularization\n",
    "A simple way to improve performance is to include the L2-regularization penalty.\n",
    "$$\\mathcal{L}=\\frac{1}{n}\\|\\mathbf{X}\\mathbf{W}-\\mathbf{y}\\|_F^2 +\\lambda \\|\\mathbf{W}\\|_F^2 \\qquad\\qquad(2)$$\n",
    "The closed-form solution now is: \n",
    "$$\\Leftrightarrow\\mathbf{W}^\\ast=(\\mathbf{X}^T\\mathbf{X}+\\lambda n\\mathbf{I})^{-1}\\mathbf{X}^T\\mathbf{y}$$"
   ]
  },
  {
   "cell_type": "code",
   "execution_count": 15,
   "metadata": {
    "colab": {
     "base_uri": "https://localhost:8080/",
     "height": 153
    },
    "colab_type": "code",
    "id": "Vlm4sHehtt9X",
    "outputId": "3c630bce-94b1-46df-be38-1ef800c20399"
   },
   "outputs": [
    {
     "name": "stdout",
     "output_type": "stream",
     "text": [
      "49000 3073\n",
      "49000 3073\n",
      "49000 3073\n",
      "49000 3073\n",
      "49000 3073\n",
      "49000 3073\n",
      "49000 3073\n",
      "49000 3073\n"
     ]
    }
   ],
   "source": [
    "# try several values of lambda to see how it helps:\n",
    "lambdas = [0.01, 0.1, 1, 10, 100, 1000, 10000, 100000]\n",
    "train_acc = np.zeros((len(lambdas)))\n",
    "test_acc = np.zeros((len(lambdas)))\n",
    "for i in range(len(lambdas)):\n",
    "    l = lambdas[i]\n",
    "    n,d = X_train.shape[0], X_train.shape[1]\n",
    "    print(n,d)\n",
    "    ################################################################################\n",
    "    # TODO:                                                                        #\n",
    "    # Implement the closed-form solution of the weight W with regularization.      #\n",
    "    ################################################################################\n",
    "    W = np.dot(np.linalg.inv(np.add(np.dot(np.transpose(X_train),X_train),l*n*np.identity(d))),np.dot(np.transpose(X_train),y_train_oh))\n",
    "    ################################################################################\n",
    "    #                              END OF YOUR CODE                                #\n",
    "    ################################################################################\n",
    "    train_acc[i] = np.sum(np.argmin(np.abs(1 - X_train.dot(W)), axis=1) == y_train).astype(np.float32)/y_train.shape[0]*100\n",
    "    test_acc[i]  = np.sum(np.argmin(np.abs(1 - X_test.dot(W)), axis=1) == y_test).astype(np.float32)/y_test.shape[0]*100"
   ]
  },
  {
   "cell_type": "code",
   "execution_count": 16,
   "metadata": {
    "colab": {
     "base_uri": "https://localhost:8080/",
     "height": 487
    },
    "colab_type": "code",
    "collapsed": true,
    "id": "sgm7LhtBtt9a",
    "outputId": "b90f7581-be96-4e5f-8f90-5e4f1f74dc45"
   },
   "outputs": [
    {
     "data": {
      "image/png": "[encoded data removed]",
      "text/plain": [
       "<Figure size 720x576 with 1 Axes>"
      ]
     },
     "metadata": {
      "tags": []
     },
     "output_type": "display_data"
    }
   ],
   "source": [
    "plt.semilogx(lambdas, train_acc, 'r', label=\"Training accuracy\")\n",
    "plt.semilogx(lambdas, test_acc, 'g', label=\"Testing accuracy\")\n",
    "\n",
    "plt.legend()\n",
    "plt.grid(True)\n",
    "plt.show()"
   ]
  },
  {
   "cell_type": "markdown",
   "metadata": {
    "colab_type": "text",
    "id": "hjrzCgEgtt9e"
   },
   "source": [
    "**Question:** Try to explain why the performances on the training and test set have such behaviors as we change the value of $\\lambda$."
   ]
  },
  {
   "cell_type": "markdown",
   "metadata": {
    "colab_type": "text",
    "id": "InXyS3mhtt9f"
   },
   "source": [
    "**Your answer:**  Regularization in machine learning is the process of regularizing the parameters that constrain, regularizes, or shrinks the coefficient estimates towards zero. In other words, this technique discourages learning a more complex or flexible model, avoiding the risk of Overfitting.\n",
    "\n",
    "Therefore, as the regularization parameter - 𝜆 increases, the training accuracy falls and training accuracy increases. This is because it dynamically allows the model to not overfit with the test data and be general enough to predict test data. Also, after it reaches a specific large number of the parameter, the test accuracy also starts to fall. This is because  our model tries hard to minimize the weights without accurately minimizing the loss function.\n",
    "\n"
   ]
  },
  {
   "cell_type": "markdown",
   "metadata": {
    "colab_type": "text",
    "id": "yo1Jaahdtt9g"
   },
   "source": [
    "## Softmax Classifier\n",
    "\n",
    "The predicted probability for the $j$-th class given a sample vector $x$ and a weight $W$ is:\n",
    "\n",
    "$$\\displaystyle{P(y=j\\mid x)=\\frac{e^{-xw_j}}{\\sum\\limits_{c=1}^{C}e^{-xw_c}}}$$ \n",
    "\n",
    "![softmax](imgs/softmax.png \"Example of Softmax\")\n",
    "\n",
    "Your code for this section will all be written inside **classifiers/softmax.py**. \n"
   ]
  },
  {
   "cell_type": "code",
   "execution_count": 17,
   "metadata": {
    "colab": {
     "base_uri": "https://localhost:8080/",
     "height": 51
    },
    "colab_type": "code",
    "id": "lYs95hAktt9i",
    "outputId": "52e3b303-5a4a-4215-fa84-718c221932ce",
    "scrolled": true
   },
   "outputs": [
    {
     "name": "stdout",
     "output_type": "stream",
     "text": [
      "loss: 2.327537\n",
      "sanity check: 2.302585\n"
     ]
    }
   ],
   "source": [
    "# First implement the naive softmax loss function with nested loops.\n",
    "# Open the file classifiers/softmax.py and implement the\n",
    "# softmax_loss_naive function.\n",
    "\n",
    "from classifiers.softmax import softmax_loss_naive\n",
    "import time\n",
    "import math\n",
    "\n",
    "# Generate a random softmax weight matrix and use it to compute the loss.\n",
    "W = np.random.randn(3073, 10) * 0.0001\n",
    "loss, grad = softmax_loss_naive(W, X_dev, y_dev, 1.5)\n",
    "\n",
    "# As a rough sanity check, our loss should be something close to -log(0.1).\n",
    "print('loss: %f' % loss)\n",
    "print('sanity check: %f' % (-np.log(0.1)))"
   ]
  },
  {
   "cell_type": "markdown",
   "metadata": {
    "colab_type": "text",
    "id": "B4yL8Fuott9n"
   },
   "source": [
    "**Question:** Why do we expect our loss to be close to -log(0.1)? Explain briefly.**"
   ]
  },
  {
   "cell_type": "markdown",
   "metadata": {
    "colab_type": "text",
    "id": "C_pJ86NAtt9p"
   },
   "source": [
    "**Your answer:** We want the probability of the correct class to be maximised. This in turn aims to minimize Loss - -log(.) . Hence, our loss is close to -log(0.1) as it is minimized. "
   ]
  },
  {
   "cell_type": "markdown",
   "metadata": {
    "colab_type": "text",
    "id": "dqQgc92Btt9q"
   },
   "source": [
    "# Optimization\n",
    "\n",
    "\n",
    "## Random search"
   ]
  },
  {
   "cell_type": "code",
   "execution_count": 18,
   "metadata": {
    "colab": {
     "base_uri": "https://localhost:8080/",
     "height": 1000
    },
    "colab_type": "code",
    "id": "sAZsiMUatt9s",
    "outputId": "9aedea67-2b52-43a4-e01d-395bff5bee4b"
   },
   "outputs": [
    {
     "name": "stdout",
     "output_type": "stream",
     "text": [
      "in attempt 0 the loss was 2.438061, best 2.438061\n",
      "in attempt 1 the loss was 2.353914, best 2.353914\n",
      "in attempt 2 the loss was 2.349891, best 2.349891\n",
      "in attempt 3 the loss was 2.325859, best 2.325859\n",
      "in attempt 4 the loss was 2.386877, best 2.325859\n",
      "in attempt 5 the loss was 2.376974, best 2.325859\n",
      "in attempt 6 the loss was 2.338215, best 2.325859\n",
      "in attempt 7 the loss was 2.367791, best 2.325859\n",
      "in attempt 8 the loss was 2.387139, best 2.325859\n",
      "in attempt 9 the loss was 2.366352, best 2.325859\n",
      "in attempt 10 the loss was 2.333570, best 2.325859\n",
      "in attempt 11 the loss was 2.328531, best 2.325859\n",
      "in attempt 12 the loss was 2.354842, best 2.325859\n",
      "in attempt 13 the loss was 2.401608, best 2.325859\n",
      "in attempt 14 the loss was 2.388703, best 2.325859\n",
      "in attempt 15 the loss was 2.379910, best 2.325859\n",
      "in attempt 16 the loss was 2.383777, best 2.325859\n",
      "in attempt 17 the loss was 2.368721, best 2.325859\n",
      "in attempt 18 the loss was 2.304804, best 2.304804\n",
      "in attempt 19 the loss was 2.338666, best 2.304804\n",
      "in attempt 20 the loss was 2.360678, best 2.304804\n",
      "in attempt 21 the loss was 2.356171, best 2.304804\n",
      "in attempt 22 the loss was 2.361808, best 2.304804\n",
      "in attempt 23 the loss was 2.400495, best 2.304804\n",
      "in attempt 24 the loss was 2.405375, best 2.304804\n",
      "in attempt 25 the loss was 2.363469, best 2.304804\n",
      "in attempt 26 the loss was 2.350037, best 2.304804\n",
      "in attempt 27 the loss was 2.356782, best 2.304804\n",
      "in attempt 28 the loss was 2.356050, best 2.304804\n",
      "in attempt 29 the loss was 2.358622, best 2.304804\n",
      "in attempt 30 the loss was 2.336780, best 2.304804\n",
      "in attempt 31 the loss was 2.381566, best 2.304804\n",
      "in attempt 32 the loss was 2.332171, best 2.304804\n",
      "in attempt 33 the loss was 2.366753, best 2.304804\n",
      "in attempt 34 the loss was 2.364293, best 2.304804\n",
      "in attempt 35 the loss was 2.315752, best 2.304804\n",
      "in attempt 36 the loss was 2.314016, best 2.304804\n",
      "in attempt 37 the loss was 2.367019, best 2.304804\n",
      "in attempt 38 the loss was 2.347637, best 2.304804\n",
      "in attempt 39 the loss was 2.329629, best 2.304804\n",
      "in attempt 40 the loss was 2.348543, best 2.304804\n",
      "in attempt 41 the loss was 2.390159, best 2.304804\n",
      "in attempt 42 the loss was 2.370400, best 2.304804\n",
      "in attempt 43 the loss was 2.358609, best 2.304804\n",
      "in attempt 44 the loss was 2.418231, best 2.304804\n",
      "in attempt 45 the loss was 2.329444, best 2.304804\n",
      "in attempt 46 the loss was 2.350472, best 2.304804\n",
      "in attempt 47 the loss was 2.403236, best 2.304804\n",
      "in attempt 48 the loss was 2.368811, best 2.304804\n",
      "in attempt 49 the loss was 2.339992, best 2.304804\n",
      "in attempt 50 the loss was 2.402550, best 2.304804\n",
      "in attempt 51 the loss was 2.408035, best 2.304804\n",
      "in attempt 52 the loss was 2.381991, best 2.304804\n",
      "in attempt 53 the loss was 2.333244, best 2.304804\n",
      "in attempt 54 the loss was 2.349796, best 2.304804\n",
      "in attempt 55 the loss was 2.356881, best 2.304804\n",
      "in attempt 56 the loss was 2.378023, best 2.304804\n",
      "in attempt 57 the loss was 2.300013, best 2.300013\n",
      "in attempt 58 the loss was 2.361796, best 2.300013\n",
      "in attempt 59 the loss was 2.367429, best 2.300013\n",
      "in attempt 60 the loss was 2.402231, best 2.300013\n",
      "in attempt 61 the loss was 2.386989, best 2.300013\n",
      "in attempt 62 the loss was 2.408349, best 2.300013\n",
      "in attempt 63 the loss was 2.320546, best 2.300013\n",
      "in attempt 64 the loss was 2.307310, best 2.300013\n",
      "in attempt 65 the loss was 2.390964, best 2.300013\n",
      "in attempt 66 the loss was 2.318395, best 2.300013\n",
      "in attempt 67 the loss was 2.353603, best 2.300013\n",
      "in attempt 68 the loss was 2.384476, best 2.300013\n",
      "in attempt 69 the loss was 2.357342, best 2.300013\n",
      "in attempt 70 the loss was 2.407819, best 2.300013\n",
      "in attempt 71 the loss was 2.378557, best 2.300013\n",
      "in attempt 72 the loss was 2.383173, best 2.300013\n",
      "in attempt 73 the loss was 2.337664, best 2.300013\n",
      "in attempt 74 the loss was 2.335227, best 2.300013\n",
      "in attempt 75 the loss was 2.438437, best 2.300013\n",
      "in attempt 76 the loss was 2.393916, best 2.300013\n",
      "in attempt 77 the loss was 2.352108, best 2.300013\n",
      "in attempt 78 the loss was 2.336537, best 2.300013\n",
      "in attempt 79 the loss was 2.283944, best 2.283944\n",
      "in attempt 80 the loss was 2.359544, best 2.283944\n",
      "in attempt 81 the loss was 2.348202, best 2.283944\n",
      "in attempt 82 the loss was 2.381387, best 2.283944\n",
      "in attempt 83 the loss was 2.337658, best 2.283944\n",
      "in attempt 84 the loss was 2.314927, best 2.283944\n",
      "in attempt 85 the loss was 2.393455, best 2.283944\n",
      "in attempt 86 the loss was 2.347483, best 2.283944\n",
      "in attempt 87 the loss was 2.363085, best 2.283944\n",
      "in attempt 88 the loss was 2.341968, best 2.283944\n",
      "in attempt 89 the loss was 2.290490, best 2.283944\n",
      "in attempt 90 the loss was 2.296513, best 2.283944\n",
      "in attempt 91 the loss was 2.329241, best 2.283944\n",
      "in attempt 92 the loss was 2.298604, best 2.283944\n",
      "in attempt 93 the loss was 2.388266, best 2.283944\n",
      "in attempt 94 the loss was 2.369605, best 2.283944\n",
      "in attempt 95 the loss was 2.352708, best 2.283944\n",
      "in attempt 96 the loss was 2.319481, best 2.283944\n",
      "in attempt 97 the loss was 2.312194, best 2.283944\n",
      "in attempt 98 the loss was 2.331366, best 2.283944\n",
      "in attempt 99 the loss was 2.347862, best 2.283944\n"
     ]
    }
   ],
   "source": [
    "bestloss = float('inf')\n",
    "for num in range(100):\n",
    "    W = np.random.randn(3073, 10) * 0.0001\n",
    "    loss, _ = softmax_loss_naive(W, X_dev, y_dev, 0.0)\n",
    "    if (loss < bestloss):\n",
    "        bestloss = loss\n",
    "        bestW = W\n",
    "    print('in attempt %d the loss was %f, best %f' % (num, loss, bestloss))"
   ]
  },
  {
   "cell_type": "code",
   "execution_count": 19,
   "metadata": {
    "colab": {
     "base_uri": "https://localhost:8080/",
     "height": 51
    },
    "colab_type": "code",
    "id": "WSAYKgjntt9w",
    "outputId": "94f70fbc-9763-4338-d623-18545121d13e"
   },
   "outputs": [
    {
     "name": "stdout",
     "output_type": "stream",
     "text": [
      "Accuracy on train set 0.133020\n",
      "Accuracy on test set 0.141000\n"
     ]
    }
   ],
   "source": [
    "# How bestW perform on trainset\n",
    "scores = X_train.dot(bestW)\n",
    "y_pred = np.argmax(scores, axis=1)\n",
    "print('Accuracy on train set %f' % np.mean(y_pred == y_train))\n",
    "\n",
    "# evaluate performance of test set\n",
    "scores = X_test.dot(bestW)\n",
    "y_pred = np.argmax(scores, axis=1)\n",
    "print('Accuracy on test set %f' % np.mean(y_pred == y_test))"
   ]
  },
  {
   "cell_type": "markdown",
   "metadata": {
    "colab_type": "text",
    "id": "7TVqCdIGtt91"
   },
   "source": [
    "Compare the performance when using random search with *regression classifier* and *softmax classifier*. You can see how much useful the softmax classifier is."
   ]
  },
  {
   "cell_type": "markdown",
   "metadata": {
    "colab_type": "text",
    "id": "SqupI-J8tt92"
   },
   "source": [
    "## Stochastic Gradient descent\n",
    "Even though it is possible to achieve closed-form solution with softmax classifier, it would be more complicated. In fact, we could achieve very good results with gradient descent approach. Additionally, in case of very large dataset, it is impossible to load the whole dataset into the memory. Gradient descent can help to optimize the loss function in batch. \n",
    "\n",
    "$$\\mathbf{W}^{t+1}=\\mathbf{W}^{t}−\\alpha \\frac{\\partial\\mathcal{L(\\mathbf{x};\\mathbf{W}^{t})}}{\\partial\\mathbf{W}^{t}}$$\n",
    "\n",
    "Where $\\alpha$ is the learning rate, $\\mathcal{L}$ is a loss function, and $\\mathbf{x}$ is a batch of training dataset."
   ]
  },
  {
   "cell_type": "code",
   "execution_count": 20,
   "metadata": {
    "colab": {
     "base_uri": "https://localhost:8080/",
     "height": 357
    },
    "colab_type": "code",
    "id": "i8qvxyMJtt93",
    "outputId": "6398e716-49c2-4c1c-ed9f-570726876f12"
   },
   "outputs": [
    {
     "name": "stdout",
     "output_type": "stream",
     "text": [
      "numerical: -1.724706 analytic: -1.724706, relative error: 1.707114e-08\n",
      "numerical: -5.605044 analytic: -5.605044, relative error: 8.938882e-09\n",
      "numerical: -7.730315 analytic: -7.730315, relative error: 5.351505e-09\n",
      "numerical: 2.331733 analytic: 2.331733, relative error: 5.132660e-09\n",
      "numerical: 2.285163 analytic: 2.285163, relative error: 3.218937e-09\n",
      "numerical: -0.569149 analytic: -0.569149, relative error: 8.960560e-08\n",
      "numerical: 2.520460 analytic: 2.520460, relative error: 1.706582e-08\n",
      "numerical: -3.041227 analytic: -3.041227, relative error: 1.644397e-08\n",
      "numerical: 3.822709 analytic: 3.822709, relative error: 2.953980e-09\n",
      "numerical: -1.500822 analytic: -1.500822, relative error: 7.328889e-09\n",
      "numerical: -1.435693 analytic: -1.435693, relative error: 5.877750e-10\n",
      "numerical: 0.266809 analytic: 0.266809, relative error: 1.057714e-07\n",
      "numerical: -3.395643 analytic: -3.395643, relative error: 8.792157e-09\n",
      "numerical: -0.935705 analytic: -0.935705, relative error: 1.446306e-08\n",
      "numerical: -2.900574 analytic: -2.900574, relative error: 1.585606e-08\n",
      "numerical: -1.032349 analytic: -1.032349, relative error: 2.280691e-09\n",
      "numerical: -0.504436 analytic: -0.504436, relative error: 7.845332e-08\n",
      "numerical: 1.305137 analytic: 1.305137, relative error: 1.175469e-09\n",
      "numerical: -0.771874 analytic: -0.771874, relative error: 3.462919e-08\n",
      "numerical: 0.159489 analytic: 0.159489, relative error: 8.175461e-08\n"
     ]
    }
   ],
   "source": [
    "# Complete the implementation of softmax_loss_naive and implement a (naive)\n",
    "# version of the gradient that uses nested loops.\n",
    "loss, grad = softmax_loss_naive(W, X_dev, y_dev, 0.0)\n",
    "\n",
    "# Use numeric gradient checking as a debugging tool.\n",
    "# The numeric gradient should be close to the analytic gradient.\n",
    "from gradient_check import grad_check_sparse\n",
    "f = lambda w: softmax_loss_naive(w, X_dev, y_dev, 0.0)[0]\n",
    "grad_numerical = grad_check_sparse(f, W, grad, 10)\n",
    "\n",
    "# gradient check with regularization\n",
    "loss, grad = softmax_loss_naive(W, X_dev, y_dev, 1e2)\n",
    "f = lambda w: softmax_loss_naive(w, X_dev, y_dev, 1e2)[0]\n",
    "grad_numerical = grad_check_sparse(f, W, grad, 10)"
   ]
  },
  {
   "cell_type": "code",
   "execution_count": 21,
   "metadata": {
    "colab": {
     "base_uri": "https://localhost:8080/",
     "height": 85
    },
    "colab_type": "code",
    "id": "e1zCDQ-ett97",
    "outputId": "0e571f09-803b-4d0b-eb47-2719829b971c"
   },
   "outputs": [
    {
     "name": "stdout",
     "output_type": "stream",
     "text": [
      "naive loss: 2.347862e+00 computed in 0.161884s\n",
      "vectorized loss: 2.347862e+00 computed in 0.011277s\n",
      "Loss difference: 0.000000\n",
      "Gradient difference: 0.000000\n"
     ]
    }
   ],
   "source": [
    "# Now that we have a naive implementation of the softmax loss function and its gradient,\n",
    "# implement a vectorized version in softmax_loss_vectorized.\n",
    "# The two versions should compute the same results, but the vectorized version should be\n",
    "# much faster.\n",
    "tic = time.time()\n",
    "loss_naive, grad_naive = softmax_loss_naive(W, X_dev, y_dev, 0.00001)\n",
    "toc = time.time()\n",
    "print('naive loss: %e computed in %fs' % (loss_naive, toc - tic))\n",
    "\n",
    "from classifiers.softmax import softmax_loss_vectorized\n",
    "tic = time.time()\n",
    "loss_vectorized, grad_vectorized = softmax_loss_vectorized(W, X_dev, y_dev, 0.00001)\n",
    "toc = time.time()\n",
    "print('vectorized loss: %e computed in %fs' % (loss_vectorized, toc - tic))\n",
    "\n",
    "# We use the Frobenius norm to compare the two versions\n",
    "# of the gradient.\n",
    "grad_difference = np.linalg.norm(grad_naive - grad_vectorized, ord='fro')\n",
    "print('Loss difference: %f' % np.abs(loss_naive - loss_vectorized))\n",
    "print('Gradient difference: %f' % grad_difference)"
   ]
  },
  {
   "cell_type": "code",
   "execution_count": 68,
   "metadata": {
    "colab": {
     "base_uri": "https://localhost:8080/",
     "height": 306
    },
    "colab_type": "code",
    "id": "8Mdzp_Fltt9-",
    "outputId": "ed3a7407-e99b-49ce-8eb6-14c6d58ce113"
   },
   "outputs": [
    {
     "name": "stdout",
     "output_type": "stream",
     "text": [
      "(49000, 3073)\n",
      "iteration 0 / 1500: loss 769.261805\n",
      "iteration 100 / 1500: loss 282.137547\n",
      "iteration 200 / 1500: loss 104.520471\n",
      "iteration 300 / 1500: loss 39.616826\n",
      "iteration 400 / 1500: loss 15.743353\n",
      "iteration 500 / 1500: loss 7.133816\n",
      "iteration 600 / 1500: loss 3.852601\n",
      "iteration 700 / 1500: loss 2.784871\n",
      "iteration 800 / 1500: loss 2.350191\n",
      "iteration 900 / 1500: loss 2.169335\n",
      "iteration 1000 / 1500: loss 2.110525\n",
      "iteration 1100 / 1500: loss 2.077467\n",
      "iteration 1200 / 1500: loss 2.075770\n",
      "iteration 1300 / 1500: loss 2.060840\n",
      "iteration 1400 / 1500: loss 2.068111\n",
      "That took 6.992247s\n"
     ]
    }
   ],
   "source": [
    "from classifiers.linear_classifier import *\n",
    "\n",
    "classifier = Softmax()\n",
    "tic = time.time()\n",
    "loss_hist = classifier.train(X_train, y_train, learning_rate=1e-7, reg=5e4,\n",
    "                                  num_iters=1500, verbose=True)\n",
    "toc = time.time()\n",
    "print('That took %fs' % (toc - tic))"
   ]
  },
  {
   "cell_type": "code",
   "execution_count": 71,
   "metadata": {
    "colab": {
     "base_uri": "https://localhost:8080/",
     "height": 119
    },
    "colab_type": "code",
    "id": "W7RhD57wtt-D",
    "outputId": "e7a77244-17c0-477a-a319-bb4cfd3ddcbb"
   },
   "outputs": [
    {
     "name": "stdout",
     "output_type": "stream",
     "text": [
      "(49000,)\n",
      "(49000,)\n",
      "training accuracy: 0.326429\n",
      "(1000,)\n",
      "(1000,)\n",
      "validation accuracy: 0.338000\n"
     ]
    }
   ],
   "source": [
    "# Write the Softmax.predict function and evaluate the performance on both the\n",
    "# training and validation set\n",
    "y_train_pred = classifier.predict(X_train)\n",
    "print('training accuracy: %f' % (np.mean(y_train == y_train_pred), ))\n",
    "y_val_pred = classifier.predict(X_val)\n",
    "print('validation accuracy: %f' % (np.mean(y_val == y_val_pred), ))"
   ]
  },
  {
   "cell_type": "code",
   "execution_count": 72,
   "metadata": {
    "colab": {
     "base_uri": "https://localhost:8080/",
     "height": 497
    },
    "colab_type": "code",
    "id": "zMAMC1ITtt-I",
    "outputId": "31d9fb7e-11ca-42e8-acd6-0446d452a3f8"
   },
   "outputs": [
    {
     "data": {
      "image/png": "[encoded data removed]",
      "text/plain": [
       "<Figure size 720x576 with 1 Axes>"
      ]
     },
     "metadata": {
      "tags": []
     },
     "output_type": "display_data"
    }
   ],
   "source": [
    "# A useful debugging strategy is to plot the loss as a function of\n",
    "# iteration number:\n",
    "plt.plot(loss_hist)\n",
    "plt.xlabel('Iteration number')\n",
    "plt.ylabel('Loss value')\n",
    "plt.show()"
   ]
  },
  {
   "cell_type": "code",
   "execution_count": 73,
   "metadata": {
    "colab": {
     "base_uri": "https://localhost:8080/",
     "height": 68
    },
    "colab_type": "code",
    "id": "4tpUrHtHtt-M",
    "outputId": "ce796b1d-a5ed-4fd9-a365-32922c75cb53"
   },
   "outputs": [
    {
     "name": "stdout",
     "output_type": "stream",
     "text": [
      "(1000,)\n",
      "(1000,)\n",
      "softmax on raw pixels final test set accuracy: 34.20\n"
     ]
    }
   ],
   "source": [
    "# evaluate on test set\n",
    "# Evaluate the best softmax on test set\n",
    "y_test_pred = classifier.predict(X_test)\n",
    "test_accuracy = np.mean(y_test == y_test_pred)\n",
    "print('softmax on raw pixels final test set accuracy: %.2f' % (100*test_accuracy, ))"
   ]
  },
  {
   "cell_type": "code",
   "execution_count": 0,
   "metadata": {
    "colab": {},
    "colab_type": "code",
    "id": "pydr8H4uVLGH"
   },
   "outputs": [],
   "source": []
  }
 ],
 "metadata": {
  "accelerator": "GPU",
  "anaconda-cloud": {},
  "colab": {
   "collapsed_sections": [],
   "name": "softmax.ipynb",
   "provenance": []
  },
  "kernelspec": {
   "display_name": "Python 3",
   "language": "python",
   "name": "python3"
  },
  "language_info": {
   "codemirror_mode": {
    "name": "ipython",
    "version": 3
   },
   "file_extension": ".py",
   "mimetype": "text/x-python",
   "name": "python",
   "nbconvert_exporter": "python",
   "pygments_lexer": "ipython3",
   "version": "3.6.4"
  }
 },
 "nbformat": 4,
 "nbformat_minor": 1
}

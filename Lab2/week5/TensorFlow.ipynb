{
 "cells": [
  {
   "cell_type": "markdown",
   "metadata": {
    "colab_type": "text",
    "id": "dhnWGq97iyac",
    "tags": [
     "pdf-title"
    ]
   },
   "source": [
    "# What's this TensorFlow business?\n",
    "\n",
    "You've written a lot of code in this assignment to provide a whole host of neural network functionality. Dropout, Batch Norm, and 2D convolutions are some of the workhorses of deep learning in computer vision. You've also worked hard to make your code efficient and vectorized.\n",
    "\n",
    "For the last part of this assignment, though, we're going to leave behind your beautiful codebase and instead migrate to one of two popular deep learning frameworks: in this instance, TensorFlow (or PyTorch, if you choose to work with that notebook)."
   ]
  },
  {
   "cell_type": "markdown",
   "metadata": {
    "colab_type": "text",
    "id": "5Uj0CHvOiyaf",
    "tags": [
     "pdf-ignore"
    ]
   },
   "source": [
    "#### What is it?\n",
    "TensorFlow is a system for executing computational graphs over Tensor objects, with native support for performing backpropogation for its Variables. In it, we work with Tensors which are n-dimensional arrays analogous to the numpy ndarray.\n",
    "\n",
    "#### Why?\n",
    "\n",
    "* Our code will now run on GPUs! Much faster training. Writing your own modules to run on GPUs is beyond the scope of this class, unfortunately.\n",
    "* We want you to be ready to use one of these frameworks for your project so you can experiment more efficiently than if you were writing every feature you want to use by hand. \n",
    "* We want you to stand on the shoulders of giants! TensorFlow and PyTorch are both excellent frameworks that will make your lives a lot easier, and now that you understand their guts, you are free to use them :) \n",
    "* We want you to be exposed to the sort of deep learning code you might run into in academia or industry. "
   ]
  },
  {
   "cell_type": "markdown",
   "metadata": {
    "colab_type": "text",
    "id": "zIZvg1ZViyag"
   },
   "source": [
    "**Acknowledgement: This exercise is adapted from [Stanford CS231n](http://cs231n.stanford.edu/index.html).**"
   ]
  },
  {
   "cell_type": "markdown",
   "metadata": {
    "colab_type": "text",
    "id": "0n-c6x1kiyah",
    "tags": [
     "pdf-ignore"
    ]
   },
   "source": [
    "## How will I learn TensorFlow?\n",
    "\n",
    "TensorFlow has many excellent tutorials available, including those from [Google themselves](https://www.tensorflow.org/get_started/get_started).\n",
    "\n",
    "Otherwise, this notebook will walk you through much of what you need to do to train models in TensorFlow. See the end of the notebook for some links to helpful tutorials if you want to learn more or need further clarification on topics that aren't fully explained here.\n",
    "\n",
    "**NOTE: This notebook is meant to teach you the latest version of Tensorflow 2.0. Most examples on the web today are still in 1.x, so be careful not to confuse the two when looking up documentation**.\n",
    "\n",
    "## Install Tensorflow 2.0\n",
    "Tensorflow 2.0 is still not in a fully 100% stable release, but it's still usable and more intuitive than TF 1.x. Please make sure you have it installed before moving on in this notebook! Here are some steps to get started:\n",
    "\n",
    "1. Have the latest version of Anaconda installed on your machine.\n",
    "2. Create a new conda environment starting from Python 3.7. In this setup example, we'll call it `tf_20_env`.\n",
    "3. Run the command: `source activate tf_20_env`\n",
    "4. Then pip install TF 2.0 as described here: https://www.tensorflow.org/install/pip \n",
    "\n",
    "A guide on creating Anaconda enviornments: https://uoa-eresearch.github.io/eresearch-cookbook/recipe/2014/11/20/conda/\n",
    "\n",
    "This will give you an new enviornemnt to play in TF 2.0. Generally, if you plan to also use TensorFlow in your other projects, you might also want to keep a seperate Conda environment or virtualenv in Python 3.7 that has Tensorflow 1.9, so you can switch back and forth at will. "
   ]
  },
  {
   "cell_type": "markdown",
   "metadata": {
    "colab_type": "text",
    "id": "AnIAhiuqiyai"
   },
   "source": [
    "**Acknowledgement: This exercise is adapted from [Stanford CS231n](http://cs231n.stanford.edu/index.html).**"
   ]
  },
  {
   "cell_type": "markdown",
   "metadata": {
    "colab_type": "text",
    "id": "_EYTfcMAiyaj"
   },
   "source": [
    "## How will I learn TensorFlow?\n",
    "\n",
    "TensorFlow has many excellent tutorials available, including those from [Google themselves](https://www.tensorflow.org/get_started/get_started).\n",
    "\n",
    "Otherwise, this notebook will walk you through much of what you need to do to train models in TensorFlow. See the end of the notebook for some links to helpful tutorials if you want to learn more or need further clarification on topics that aren't fully explained here.\n",
    "\n",
    "# Part I: Preparation"
   ]
  },
  {
   "cell_type": "code",
   "execution_count": 2,
   "metadata": {
    "colab": {
     "base_uri": "https://localhost:8080/",
     "height": 102
    },
    "colab_type": "code",
    "id": "C8ebVat5iyak",
    "outputId": "54b15ca2-413c-4f05-fd46-735427a7d39b",
    "tags": [
     "pdf-ignore"
    ]
   },
   "outputs": [
    {
     "name": "stdout",
     "output_type": "stream",
     "text": [
      "`%tensorflow_version` only switches the major version: 1.x or 2.x.\n",
      "You set: `2.x # i am using google colab, hence need to switch version at start`. This will be interpreted as: `2.x`.\n",
      "\n",
      "\n",
      "TensorFlow 2.x selected.\n"
     ]
    }
   ],
   "source": [
    "%tensorflow_version 2.x # i am using google colab, hence need to switch version at start\n",
    "import os\n",
    "import tensorflow as tf\n",
    "import numpy as np\n",
    "import math\n",
    "import timeit\n",
    "import matplotlib.pyplot as plt\n",
    "\n",
    "\n",
    "\n",
    "%matplotlib inline"
   ]
  },
  {
   "cell_type": "code",
   "execution_count": 3,
   "metadata": {
    "colab": {
     "base_uri": "https://localhost:8080/",
     "height": 34
    },
    "colab_type": "code",
    "id": "eLeK2lFtWIeS",
    "outputId": "f6faa11e-41cb-495a-ea86-e98c06542aa3"
   },
   "outputs": [
    {
     "data": {
      "text/plain": [
       "'2.1.0'"
      ]
     },
     "execution_count": 3,
     "metadata": {
      "tags": []
     },
     "output_type": "execute_result"
    }
   ],
   "source": [
    "\n",
    "tf.__version__"
   ]
  },
  {
   "cell_type": "code",
   "execution_count": 4,
   "metadata": {
    "colab": {
     "base_uri": "https://localhost:8080/",
     "height": 153
    },
    "colab_type": "code",
    "id": "EvKV5-BPiyan",
    "outputId": "bb181be9-47d9-4e7b-dbe9-e84ba9e34c8c",
    "tags": [
     "pdf-ignore"
    ]
   },
   "outputs": [
    {
     "name": "stdout",
     "output_type": "stream",
     "text": [
      "Downloading data from https://www.cs.toronto.edu/~kriz/cifar-10-python.tar.gz\n",
      "170500096/170498071 [==============================] - 13s 0us/step\n",
      "Train data shape:  (49000, 32, 32, 3)\n",
      "Train labels shape:  (49000,) int32\n",
      "Validation data shape:  (1000, 32, 32, 3)\n",
      "Validation labels shape:  (1000,)\n",
      "Test data shape:  (10000, 32, 32, 3)\n",
      "Test labels shape:  (10000,)\n"
     ]
    }
   ],
   "source": [
    "def load_cifar10(num_training=49000, num_validation=1000, num_test=10000):\n",
    "    \"\"\"\n",
    "    Fetch the CIFAR-10 dataset from the web and perform preprocessing to prepare\n",
    "    it for the two-layer neural net classifier. These are the same steps as\n",
    "    we used for the SVM, but condensed to a single function.\n",
    "    \"\"\"\n",
    "    # Load the raw CIFAR-10 dataset and use appropriate data types and shapes\n",
    "    cifar10 = tf.keras.datasets.cifar10.load_data()\n",
    "    (X_train, y_train), (X_test, y_test) = cifar10\n",
    "    X_train = np.asarray(X_train, dtype=np.float32)\n",
    "    y_train = np.asarray(y_train, dtype=np.int32).flatten()\n",
    "    X_test = np.asarray(X_test, dtype=np.float32)\n",
    "    y_test = np.asarray(y_test, dtype=np.int32).flatten()\n",
    "\n",
    "    # Subsample the data\n",
    "    mask = range(num_training, num_training + num_validation)\n",
    "    X_val = X_train[mask]\n",
    "    y_val = y_train[mask]\n",
    "    mask = range(num_training)\n",
    "    X_train = X_train[mask]\n",
    "    y_train = y_train[mask]\n",
    "    mask = range(num_test)\n",
    "    X_test = X_test[mask]\n",
    "    y_test = y_test[mask]\n",
    "\n",
    "    # Normalize the data: subtract the mean pixel and divide by std\n",
    "    mean_pixel = X_train.mean(axis=(0, 1, 2), keepdims=True)\n",
    "    std_pixel = X_train.std(axis=(0, 1, 2), keepdims=True)\n",
    "    X_train = (X_train - mean_pixel) / std_pixel\n",
    "    X_val = (X_val - mean_pixel) / std_pixel\n",
    "    X_test = (X_test - mean_pixel) / std_pixel\n",
    "\n",
    "    return X_train, y_train, X_val, y_val, X_test, y_test\n",
    "\n",
    "# If there are errors with SSL downloading involving self-signed certificates,\n",
    "# it may be that your Python version was recently installed on the current machine.\n",
    "# See: https://github.com/tensorflow/tensorflow/issues/10779\n",
    "# To fix, run the command: /Applications/Python\\ 3.7/Install\\ Certificates.command\n",
    "#   ...replacing paths as necessary.\n",
    "\n",
    "# Invoke the above function to get our data.\n",
    "NHW = (0, 1, 2)\n",
    "X_train, y_train, X_val, y_val, X_test, y_test = load_cifar10()\n",
    "print('Train data shape: ', X_train.shape)\n",
    "print('Train labels shape: ', y_train.shape, y_train.dtype)\n",
    "print('Validation data shape: ', X_val.shape)\n",
    "print('Validation labels shape: ', y_val.shape)\n",
    "print('Test data shape: ', X_test.shape)\n",
    "print('Test labels shape: ', y_test.shape)"
   ]
  },
  {
   "cell_type": "code",
   "execution_count": 0,
   "metadata": {
    "colab": {},
    "colab_type": "code",
    "id": "sgOAb6ffiyaq",
    "tags": [
     "pdf-ignore"
    ]
   },
   "outputs": [],
   "source": [
    "class Dataset(object):\n",
    "    def __init__(self, X, y, batch_size, shuffle=False):\n",
    "        \"\"\"\n",
    "        Construct a Dataset object to iterate over data X and labels y\n",
    "        \n",
    "        Inputs:\n",
    "        - X: Numpy array of data, of any shape\n",
    "        - y: Numpy array of labels, of any shape but with y.shape[0] == X.shape[0]\n",
    "        - batch_size: Integer giving number of elements per minibatch\n",
    "        - shuffle: (optional) Boolean, whether to shuffle the data on each epoch\n",
    "        \"\"\"\n",
    "        assert X.shape[0] == y.shape[0], 'Got different numbers of data and labels'\n",
    "        self.X, self.y = X, y\n",
    "        self.batch_size, self.shuffle = batch_size, shuffle\n",
    "\n",
    "    def __iter__(self):\n",
    "        N, B = self.X.shape[0], self.batch_size\n",
    "        idxs = np.arange(N)\n",
    "        if self.shuffle:\n",
    "            np.random.shuffle(idxs)\n",
    "        return iter((self.X[i:i+B], self.y[i:i+B]) for i in range(0, N, B))\n",
    "\n",
    "\n",
    "train_dset = Dataset(X_train, y_train, batch_size=64, shuffle=True)\n",
    "val_dset = Dataset(X_val, y_val, batch_size=64, shuffle=False)\n",
    "test_dset = Dataset(X_test, y_test, batch_size=64)"
   ]
  },
  {
   "cell_type": "code",
   "execution_count": 6,
   "metadata": {
    "colab": {
     "base_uri": "https://localhost:8080/",
     "height": 136
    },
    "colab_type": "code",
    "id": "IB2VAaQoiyat",
    "outputId": "d2799889-e64c-4aa3-c93b-4c5e55d9865a"
   },
   "outputs": [
    {
     "name": "stdout",
     "output_type": "stream",
     "text": [
      "0 (64, 32, 32, 3) (64,)\n",
      "1 (64, 32, 32, 3) (64,)\n",
      "2 (64, 32, 32, 3) (64,)\n",
      "3 (64, 32, 32, 3) (64,)\n",
      "4 (64, 32, 32, 3) (64,)\n",
      "5 (64, 32, 32, 3) (64,)\n",
      "6 (64, 32, 32, 3) (64,)\n"
     ]
    }
   ],
   "source": [
    "# We can iterate through a dataset like this:\n",
    "for t, (x, y) in enumerate(train_dset):\n",
    "    print(t, x.shape, y.shape)\n",
    "    if t > 5: break"
   ]
  },
  {
   "cell_type": "markdown",
   "metadata": {
    "colab_type": "text",
    "id": "Xz06QKNuiyaw"
   },
   "source": [
    "You can optionally **use GPU by setting the flag to True below**. It's not neccessary to use a GPU for this assignment; if you are working on Google Cloud then we recommend that you do not use a GPU, as it will be significantly more expensive."
   ]
  },
  {
   "cell_type": "code",
   "execution_count": 7,
   "metadata": {
    "colab": {
     "base_uri": "https://localhost:8080/",
     "height": 34
    },
    "colab_type": "code",
    "id": "o0MwNaG5iyaw",
    "outputId": "c6176e00-bf38-4ba1-f01e-9f5940d9522a",
    "tags": [
     "pdf-ignore-input"
    ]
   },
   "outputs": [
    {
     "name": "stdout",
     "output_type": "stream",
     "text": [
      "Using device:  /device:GPU:0\n"
     ]
    }
   ],
   "source": [
    "# Set up some global variables\n",
    "USE_GPU = True\n",
    "\n",
    "if USE_GPU:\n",
    "    device = '/device:GPU:0'\n",
    "else:\n",
    "    device = '/cpu:0'\n",
    "\n",
    "# Constant to control how often we print when training models\n",
    "print_every = 100\n",
    "\n",
    "print('Using device: ', device)"
   ]
  },
  {
   "cell_type": "markdown",
   "metadata": {
    "colab_type": "text",
    "id": "s1mx5UHSiyaz",
    "tags": [
     "pdf-ignore"
    ]
   },
   "source": [
    "# Part II: Barebones TensorFlow\n",
    "TensorFlow ships with various high-level APIs which make it very convenient to define and train neural networks; we will cover some of these constructs in Part III and Part IV of this notebook. In this section we will start by building a model with basic TensorFlow constructs to help you better understand what's going on under the hood of the higher-level APIs.\n",
    "\n",
    "**\"Barebones Tensorflow\" is important to understanding the building blocks of TensorFlow, but much of it involves concepts from TensorFlow 1.x.** We will be working with legacy modules such as `tf.Variable`.\n",
    "\n",
    "Therefore, please read and understand the differences between legacy (1.x) TF and the new (2.0) TF.\n",
    "\n",
    "### Historical background on TensorFlow 1.x\n",
    "\n",
    "TensorFlow 1.x is primarily a framework for working with **static computational graphs**. Nodes in the computational graph are Tensors which will hold n-dimensional arrays when the graph is run; edges in the graph represent functions that will operate on Tensors when the graph is run to actually perform useful computation.\n",
    "\n",
    "Before Tensorflow 2.0, we had to configure the graph into two phases. There are plenty of tutorials online that explain this two-step process. The process generally looks like the following for TF 1.x:\n",
    "1. **Build a computational graph that describes the computation that you want to perform**. This stage doesn't actually perform any computation; it just builds up a symbolic representation of your computation. This stage will typically define one or more `placeholder` objects that represent inputs to the computational graph.\n",
    "2. **Run the computational graph many times.** Each time the graph is run (e.g. for one gradient descent step) you will specify which parts of the graph you want to compute, and pass a `feed_dict` dictionary that will give concrete values to any `placeholder`s in the graph.\n",
    "\n",
    "### The new paradigm in Tensorflow 2.0\n",
    "Now, with Tensorflow 2.0, we can simply adopt a functional form that is more Pythonic and similar in spirit to PyTorch and direct Numpy operation. Instead of the 2-step paradigm with computation graphs, making it (among other things) easier to debug TF code. You can read more details at https://www.tensorflow.org/guide/eager.\n",
    "\n",
    "The main difference between the TF 1.x and 2.0 approach is that the 2.0 approach doesn't make use of `tf.Session`, `tf.run`, `placeholder`, `feed_dict`. To get more details of what's different between the two version and how to convert between the two, check out the official migration guide: https://www.tensorflow.org/alpha/guide/migration_guide\n",
    "\n",
    "Later, in the rest of this notebook we'll focus on this new, simpler approach."
   ]
  },
  {
   "cell_type": "markdown",
   "metadata": {
    "colab_type": "text",
    "id": "NFweE3Ffiya0",
    "tags": [
     "pdf-ignore"
    ]
   },
   "source": [
    "### TensorFlow warmup: Flatten Function\n",
    "\n",
    "We can see this in action by defining a simple `flatten` function that will reshape image data for use in a fully-connected network.\n",
    "\n",
    "In TensorFlow, data for convolutional feature maps is typically stored in a Tensor of shape N x H x W x C where:\n",
    "\n",
    "- N is the number of datapoints (minibatch size)\n",
    "- H is the height of the feature map\n",
    "- W is the width of the feature map\n",
    "- C is the number of channels in the feature map\n",
    "\n",
    "This is the right way to represent the data when we are doing something like a 2D convolution, that needs spatial understanding of where the intermediate features are relative to each other. When we use fully connected affine layers to process the image, however, we want each datapoint to be represented by a single vector -- it's no longer useful to segregate the different channels, rows, and columns of the data. So, we use a \"flatten\" operation to collapse the `H x W x C` values per representation into a single long vector. \n",
    "\n",
    "Notice the `tf.reshape` call has the target shape as `(N, -1)`, meaning it will reshape/keep the first dimension to be N, and then infer as necessary what the second dimension is in the output, so we can collapse the remaining dimensions from the input properly.\n",
    "\n",
    "**NOTE**: TensorFlow and PyTorch differ on the default Tensor layout; TensorFlow uses N x H x W x C but PyTorch uses N x C x H x W."
   ]
  },
  {
   "cell_type": "code",
   "execution_count": 0,
   "metadata": {
    "colab": {},
    "colab_type": "code",
    "id": "4_Tw6ErTiya0",
    "tags": [
     "pdf-ignore"
    ]
   },
   "outputs": [],
   "source": [
    "def flatten(x):\n",
    "    \"\"\"    \n",
    "    Input:\n",
    "    - TensorFlow Tensor of shape (N, D1, ..., DM)\n",
    "    \n",
    "    Output:\n",
    "    - TensorFlow Tensor of shape (N, D1 * ... * DM)\n",
    "    \"\"\"\n",
    "    N = tf.shape(x)[0]\n",
    "    return tf.reshape(x, (N, -1))"
   ]
  },
  {
   "cell_type": "code",
   "execution_count": 9,
   "metadata": {
    "colab": {
     "base_uri": "https://localhost:8080/",
     "height": 255
    },
    "colab_type": "code",
    "id": "G8topMmziya3",
    "outputId": "2c7219fc-bcf0-44e8-92da-980994bef68f",
    "tags": [
     "pdf-ignore-input"
    ]
   },
   "outputs": [
    {
     "name": "stdout",
     "output_type": "stream",
     "text": [
      "x_np:\n",
      " [[[ 0  1  2  3]\n",
      "  [ 4  5  6  7]\n",
      "  [ 8  9 10 11]]\n",
      "\n",
      " [[12 13 14 15]\n",
      "  [16 17 18 19]\n",
      "  [20 21 22 23]]] \n",
      "\n",
      "x_flat_np:\n",
      " tf.Tensor(\n",
      "[[ 0  1  2  3  4  5  6  7  8  9 10 11]\n",
      " [12 13 14 15 16 17 18 19 20 21 22 23]], shape=(2, 12), dtype=int64) \n",
      "\n"
     ]
    }
   ],
   "source": [
    "def test_flatten():\n",
    "    # tf.reset_default_graph()\n",
    "    # x = tf.placeholder(tf.float32)\n",
    "    # Construct concrete values of the input data x using numpy\n",
    "    x_np = np.arange(24).reshape((2, 3, 4))\n",
    "    print('x_np:\\n', x_np, '\\n')\n",
    "    # Compute a concrete output value.\n",
    "    x_flat_np = flatten(x_np)\n",
    "    # with tf.Session() as sess:\n",
    "    #   x_flat1_np = sess.run(x_flat_np, feed_dict={x: x_np})\n",
    "      # x_flat1_np = flatten(x_np)  \n",
    "      # print('x_flat_np:\\n', x_flat1_np, '\\n') \n",
    "    print('x_flat_np:\\n', x_flat_np, '\\n')\n",
    "\n",
    "test_flatten()"
   ]
  },
  {
   "cell_type": "markdown",
   "metadata": {
    "colab_type": "text",
    "id": "fIS4xZpMiya6"
   },
   "source": [
    "### Barebones TensorFlow: Define a Two-Layer Network\n",
    "We will now implement our first neural network with TensorFlow: a fully-connected ReLU network with two hidden layers and no biases on the CIFAR10 dataset. For now we will use only low-level TensorFlow operators to define the network; later we will see how to use the higher-level abstractions provided by `tf.keras` to simplify the process.\n",
    "\n",
    "We will define the forward pass of the network in the function `two_layer_fc`; this will accept TensorFlow Tensors for the inputs and weights of the network, and return a TensorFlow Tensor for the scores. \n",
    "\n",
    "After defining the network architecture in the `two_layer_fc` function, we will test the implementation by checking the shape of the output.\n",
    "\n",
    "**It's important that you read and understand this implementation.**"
   ]
  },
  {
   "cell_type": "code",
   "execution_count": 0,
   "metadata": {
    "colab": {},
    "colab_type": "code",
    "id": "c-LPA135iya7",
    "tags": [
     "pdf-ignore"
    ]
   },
   "outputs": [],
   "source": [
    "def two_layer_fc(x, params):\n",
    "    \"\"\"\n",
    "    A fully-connected neural network; the architecture is:\n",
    "    fully-connected layer -> ReLU -> fully connected layer.\n",
    "    Note that we only need to define the forward pass here; TensorFlow will take\n",
    "    care of computing the gradients for us.\n",
    "    \n",
    "    The input to the network will be a minibatch of data, of shape\n",
    "    (N, d1, ..., dM) where d1 * ... * dM = D. The hidden layer will have H units,\n",
    "    and the output layer will produce scores for C classes.\n",
    "\n",
    "    Inputs:\n",
    "    - x: A TensorFlow Tensor of shape (N, d1, ..., dM) giving a minibatch of\n",
    "      input data.\n",
    "    - params: A list [w1, w2] of TensorFlow Tensors giving weights for the\n",
    "      network, where w1 has shape (D, H) and w2 has shape (H, C).\n",
    "    \n",
    "    Returns:\n",
    "    - scores: A TensorFlow Tensor of shape (N, C) giving classification scores\n",
    "      for the input data x.\n",
    "    \"\"\"\n",
    "    w1, w2 = params                   # Unpack the parameters\n",
    "    x = flatten(x)                    # Flatten the input; now x has shape (N, D)\n",
    "    h = tf.nn.relu(tf.matmul(x, w1))  # Hidden layer: h has shape (N, H)\n",
    "    scores = tf.matmul(h, w2)         # Compute scores of shape (N, C)\n",
    "    return scores"
   ]
  },
  {
   "cell_type": "code",
   "execution_count": 11,
   "metadata": {
    "colab": {
     "base_uri": "https://localhost:8080/",
     "height": 34
    },
    "colab_type": "code",
    "id": "d_CzOcgMiya-",
    "outputId": "ca7b8a51-2967-4f4c-b82d-d711858fbc4e",
    "tags": [
     "pdf-ignore-input"
    ]
   },
   "outputs": [
    {
     "name": "stdout",
     "output_type": "stream",
     "text": [
      "(64, 10)\n"
     ]
    }
   ],
   "source": [
    "def two_layer_fc_test():\n",
    "    hidden_layer_size = 42\n",
    "\n",
    "    # Scoping our TF operations under a tf.device context manager \n",
    "    # lets us tell TensorFlow where we want these Tensors to be\n",
    "    # multiplied and/or operated on, e.g. on a CPU or a GPU.\n",
    "    with tf.device(device):        \n",
    "        x = tf.zeros((64, 32, 32, 3))\n",
    "        w1 = tf.zeros((32 * 32 * 3, hidden_layer_size))\n",
    "        w2 = tf.zeros((hidden_layer_size, 10))\n",
    "\n",
    "        # Call our two_layer_fc function for the forward pass of the network.\n",
    "        scores = two_layer_fc(x, [w1, w2])\n",
    "\n",
    "    print(scores.shape)\n",
    "\n",
    "two_layer_fc_test()"
   ]
  },
  {
   "cell_type": "markdown",
   "metadata": {
    "colab_type": "text",
    "id": "zez0Cjg0iybA"
   },
   "source": [
    "### Barebones TensorFlow: Three-Layer ConvNet\n",
    "Here you will complete the implementation of the function `three_layer_convnet` which will perform the forward pass of a three-layer convolutional network. The network should have the following architecture:\n",
    "\n",
    "1. A convolutional layer (with bias) with `channel_1` filters, each with shape `KW1 x KH1`, and zero-padding of two\n",
    "2. ReLU nonlinearity\n",
    "3. A convolutional layer (with bias) with `channel_2` filters, each with shape `KW2 x KH2`, and zero-padding of one\n",
    "4. ReLU nonlinearity\n",
    "5. Fully-connected layer with bias, producing scores for `C` classes.\n",
    "\n",
    "**HINT**: For convolutions: https://www.tensorflow.org/versions/r2.0/api_docs/python/tf/nn/conv2d; be careful with padding!\n",
    "\n",
    "**HINT**: For biases: https://www.tensorflow.org/performance/xla/broadcasting"
   ]
  },
  {
   "cell_type": "code",
   "execution_count": 0,
   "metadata": {
    "colab": {},
    "colab_type": "code",
    "id": "XOFEESwRiybB"
   },
   "outputs": [],
   "source": [
    "def three_layer_convnet(x, params):\n",
    "    \"\"\"\n",
    "    A three-layer convolutional network with the architecture described above.\n",
    "    \n",
    "    Inputs:\n",
    "    - x: A TensorFlow Tensor of shape (N, H, W, 3) giving a minibatch of images\n",
    "    - params: A list of TensorFlow Tensors giving the weights and biases for the\n",
    "      network; should contain the following:\n",
    "      - conv_w1: TensorFlow Tensor of shape (KH1, KW1, 3, channel_1) giving\n",
    "        weights for the first convolutional layer.\n",
    "      - conv_b1: TensorFlow Tensor of shape (channel_1,) giving biases for the\n",
    "        first convolutional layer.\n",
    "      - conv_w2: TensorFlow Tensor of shape (KH2, KW2, channel_1, channel_2)\n",
    "        giving weights for the second convolutional layer\n",
    "      - conv_b2: TensorFlow Tensor of shape (channel_2,) giving biases for the\n",
    "        second convolutional layer.\n",
    "      - fc_w: TensorFlow Tensor giving weights for the fully-connected layer.\n",
    "        Can you figure out what the shape should be?\n",
    "      - fc_b: TensorFlow Tensor giving biases for the fully-connected layer.\n",
    "        Can you figure out what the shape should be?\n",
    "    \"\"\"\n",
    "    conv_w1, conv_b1, conv_w2, conv_b2, fc_w, fc_b = params\n",
    "    scores = None\n",
    "    ############################################################################\n",
    "    # TODO: Implement the forward pass for the three-layer ConvNet.            #\n",
    "    ############################################################################\n",
    "    # *****START OF YOUR CODE (DO NOT DELETE/MODIFY THIS LINE)*****\n",
    "    \n",
    "    #conv layer 1\n",
    "    x_pad = tf.pad(x, [[0, 0], [2, 2], [2, 2], [0, 0]], 'CONSTANT') # X is (N, H, W, 3), filter conv_w1 is (KH1,KW1,3,channel_1) --> (H*W*3, channel_1)\n",
    "    conv_1 = tf.nn.conv2d(x_pad, conv_w1, [1, 1, 1, 1], padding='VALID') + conv_b1\n",
    "    relu_1 = tf.nn.relu(conv_1)\n",
    "\n",
    "    #conv layer 2\n",
    "    conv_1_pad = tf.pad(relu_1, [[0, 0], [1, 1], [1, 1], [0, 0]], 'CONSTANT')\n",
    "    conv_2 = tf.nn.conv2d(conv_1_pad, conv_w2, [1, 1, 1, 1], padding='VALID') + conv_b2\n",
    "    relu_2 = tf.nn.relu(conv_2)\n",
    "\n",
    "    #fully connected\n",
    "    conv_2_flat = flatten(relu_2)\n",
    "    scores = tf.add(tf.matmul(conv_2_flat, fc_w), fc_b)\n",
    "    \n",
    "\n",
    "    # *****END OF YOUR CODE (DO NOT DELETE/MODIFY THIS LINE)*****\n",
    "    ############################################################################\n",
    "    #                              END OF YOUR CODE                            #\n",
    "    ############################################################################\n",
    "    return scores"
   ]
  },
  {
   "cell_type": "markdown",
   "metadata": {
    "colab_type": "text",
    "id": "YmJ-VVt-iybD"
   },
   "source": [
    "After defing the forward pass of the three-layer ConvNet above, run the following cell to test your implementation. Like the two-layer network, we run the graph on a batch of zeros just to make sure the function doesn't crash, and produces outputs of the correct shape.\n",
    "\n",
    "When you run this function, `scores_np` should have shape `(64, 10)`."
   ]
  },
  {
   "cell_type": "code",
   "execution_count": 13,
   "metadata": {
    "colab": {
     "base_uri": "https://localhost:8080/",
     "height": 34
    },
    "colab_type": "code",
    "id": "20SyEpPeiybE",
    "jupyter": {
     "outputs_hidden": true
    },
    "outputId": "28575a7a-309e-4ec6-b645-8edaa2d10385",
    "tags": [
     "pdf-ignore-input"
    ]
   },
   "outputs": [
    {
     "name": "stdout",
     "output_type": "stream",
     "text": [
      "scores_np has shape:  (64, 10)\n"
     ]
    }
   ],
   "source": [
    "def three_layer_convnet_test():\n",
    "    \n",
    "    with tf.device(device):\n",
    "        x = tf.zeros((64, 32, 32, 3))\n",
    "        conv_w1 = tf.zeros((5, 5, 3, 6))\n",
    "        conv_b1 = tf.zeros((6,))\n",
    "        conv_w2 = tf.zeros((3, 3, 6, 9))\n",
    "        conv_b2 = tf.zeros((9,))\n",
    "        fc_w = tf.zeros((32 * 32 * 9, 10))\n",
    "        fc_b = tf.zeros((10,))\n",
    "        params = [conv_w1, conv_b1, conv_w2, conv_b2, fc_w, fc_b]\n",
    "        scores = three_layer_convnet(x, params)\n",
    "\n",
    "    # Inputs to convolutional layers are 4-dimensional arrays with shape\n",
    "    # [batch_size, height, width, channels]\n",
    "    print('scores_np has shape: ', scores.shape)\n",
    "\n",
    "three_layer_convnet_test()"
   ]
  },
  {
   "cell_type": "markdown",
   "metadata": {
    "colab_type": "text",
    "id": "UF_JOWNWiybH"
   },
   "source": [
    "### Barebones TensorFlow: Training Step\n",
    "\n",
    "We now define the `training_step` function performs a single training step. This will take three basic steps:\n",
    "\n",
    "1. Compute the loss\n",
    "2. Compute the gradient of the loss with respect to all network weights\n",
    "3. Make a weight update step using (stochastic) gradient descent.\n",
    "\n",
    "\n",
    "We need to use a few new TensorFlow functions to do all of this:\n",
    "- For computing the cross-entropy loss we'll use `tf.nn.sparse_softmax_cross_entropy_with_logits`: https://www.tensorflow.org/versions/r2.0/api_docs/python/tf/nn/sparse_softmax_cross_entropy_with_logits\n",
    "\n",
    "- For averaging the loss across a minibatch of data we'll use `tf.reduce_mean`:\n",
    "https://www.tensorflow.org/versions/r2.0/api_docs/python/tf/reduce_mean\n",
    "\n",
    "- For computing gradients of the loss with respect to the weights we'll use `tf.GradientTape` (useful for Eager execution):  https://www.tensorflow.org/versions/r2.0/api_docs/python/tf/GradientTape\n",
    "\n",
    "- We'll mutate the weight values stored in a TensorFlow Tensor using `tf.assign_sub` (\"sub\" is for subtraction): https://www.tensorflow.org/api_docs/python/tf/assign_sub \n"
   ]
  },
  {
   "cell_type": "code",
   "execution_count": 0,
   "metadata": {
    "colab": {},
    "colab_type": "code",
    "id": "TT6mWZZdiybI",
    "tags": [
     "pdf-ignore"
    ]
   },
   "outputs": [],
   "source": [
    "def training_step(model_fn, x, y, params, learning_rate):\n",
    "    with tf.GradientTape() as tape:\n",
    "        scores = model_fn(x, params) # Forward pass of the model\n",
    "        loss = tf.nn.sparse_softmax_cross_entropy_with_logits(labels=y, logits=scores)\n",
    "        total_loss = tf.reduce_mean(loss)\n",
    "        grad_params = tape.gradient(total_loss, params)\n",
    "\n",
    "        # Make a vanilla gradient descent step on all of the model parameters\n",
    "        # Manually update the weights using assign_sub()\n",
    "        for w, grad_w in zip(params, grad_params):\n",
    "            w.assign_sub(learning_rate * grad_w)\n",
    "                        \n",
    "        return total_loss"
   ]
  },
  {
   "cell_type": "code",
   "execution_count": 0,
   "metadata": {
    "colab": {},
    "colab_type": "code",
    "id": "O0xzUQ9GiybK",
    "tags": [
     "pdf-ignore"
    ]
   },
   "outputs": [],
   "source": [
    "def train_part2(model_fn, init_fn, learning_rate, epochs):\n",
    "    \"\"\"\n",
    "    Train a model on CIFAR-10.\n",
    "    \n",
    "    Inputs:\n",
    "    - model_fn: A Python function that performs the forward pass of the model\n",
    "      using TensorFlow; it should have the following signature:\n",
    "      scores = model_fn(x, params) where x is a TensorFlow Tensor giving a\n",
    "      minibatch of image data, params is a list of TensorFlow Tensors holding\n",
    "      the model weights, and scores is a TensorFlow Tensor of shape (N, C)\n",
    "      giving scores for all elements of x.\n",
    "    - init_fn: A Python function that initializes the parameters of the model.\n",
    "      It should have the signature params = init_fn() where params is a list\n",
    "      of TensorFlow Tensors holding the (randomly initialized) weights of the\n",
    "      model.\n",
    "    - learning_rate: Python float giving the learning rate to use for SGD.\n",
    "    \"\"\"\n",
    "    \n",
    "    \n",
    "    params = init_fn()  # Initialize the model parameters            \n",
    "    for e in range(epochs):    \n",
    "        for t, (x_np, y_np) in enumerate(train_dset):\n",
    "            # Run the graph on a batch of training data.\n",
    "            loss = training_step(model_fn, x_np, y_np, params, learning_rate)\n",
    "\n",
    "            # Periodically print the loss and check accuracy on the val set.\n",
    "            if t % print_every == 0:\n",
    "                print('Epoch %d, iteration %d, loss = %.4f' % (e, t, loss))\n",
    "                print('Validation:')\n",
    "                check_accuracy(val_dset, model_fn, params)\n",
    "    return params\n",
    "                "
   ]
  },
  {
   "cell_type": "code",
   "execution_count": 0,
   "metadata": {
    "colab": {},
    "colab_type": "code",
    "id": "jrDavfsTiybN",
    "tags": [
     "pdf-ignore"
    ]
   },
   "outputs": [],
   "source": [
    "def check_accuracy(dset, model_fn, params):\n",
    "    \"\"\"\n",
    "    Check accuracy on a classification model, e.g. for validation.\n",
    "    \n",
    "    Inputs:\n",
    "    - dset: A Dataset object against which to check accuracy\n",
    "    - x: A TensorFlow placeholder Tensor where input images should be fed\n",
    "    - model_fn: the Model we will be calling to make predictions on x\n",
    "    - params: parameters for the model_fn to work with\n",
    "      \n",
    "    Returns: Nothing, but prints the accuracy of the model\n",
    "    \"\"\"\n",
    "    num_correct, num_samples = 0, 0\n",
    "    for x_batch, y_batch in dset:\n",
    "        scores_np = model_fn(x_batch, params).numpy()\n",
    "        y_pred = scores_np.argmax(axis=1)\n",
    "        num_samples += x_batch.shape[0]\n",
    "        num_correct += (y_pred == y_batch).sum()\n",
    "    acc = float(num_correct) / num_samples\n",
    "    print('     Got %d / %d correct (%.2f%%)' % (num_correct, num_samples, 100 * acc))"
   ]
  },
  {
   "cell_type": "markdown",
   "metadata": {
    "colab_type": "text",
    "id": "eP6_m5GriybP"
   },
   "source": [
    "### Barebones TensorFlow: Initialization\n",
    "We'll use the following utility method to initialize the weight matrices for our models using Kaiming's normalization method.\n",
    "\n",
    "[1] He et al, *Delving Deep into Rectifiers: Surpassing Human-Level Performance on ImageNet Classification\n",
    "*, ICCV 2015, https://arxiv.org/abs/1502.01852"
   ]
  },
  {
   "cell_type": "code",
   "execution_count": 0,
   "metadata": {
    "colab": {},
    "colab_type": "code",
    "id": "KCenDWICiybQ"
   },
   "outputs": [],
   "source": [
    "def create_matrix_with_kaiming_normal(shape):\n",
    "    if len(shape) == 2:\n",
    "        fan_in, fan_out = shape[0], shape[1]\n",
    "    elif len(shape) == 4:\n",
    "        fan_in, fan_out = np.prod(shape[:3]), shape[3]\n",
    "    return tf.keras.backend.random_normal(shape) * np.sqrt(2.0 / fan_in)"
   ]
  },
  {
   "cell_type": "markdown",
   "metadata": {
    "colab_type": "text",
    "id": "YCm2CQ0AiybS"
   },
   "source": [
    "### Barebones TensorFlow: Train a Two-Layer Network\n",
    "We are finally ready to use all of the pieces defined above to train a two-layer fully-connected network on CIFAR-10.\n",
    "\n",
    "We just need to define a function to initialize the weights of the model, and call `train_part2`.\n",
    "\n",
    "Defining the weights of the network introduces another important piece of TensorFlow API: `tf.Variable`. A TensorFlow Variable is a Tensor whose value is stored in the graph and persists across runs of the computational graph; however unlike constants defined with `tf.zeros` or `tf.random_normal`, the values of a Variable can be mutated as the graph runs; these mutations will persist across graph runs. Learnable parameters of the network are usually stored in Variables.\n",
    "\n",
    "You don't need to tune any hyperparameters, but you should achieve validation accuracies above 40% after one epoch of training."
   ]
  },
  {
   "cell_type": "code",
   "execution_count": 18,
   "metadata": {
    "colab": {
     "base_uri": "https://localhost:8080/",
     "height": 1000
    },
    "colab_type": "code",
    "id": "4nXmrFZmiybT",
    "jupyter": {
     "outputs_hidden": true
    },
    "outputId": "2ea28fa4-4708-4c90-8edd-bbd9031fb0b9"
   },
   "outputs": [
    {
     "name": "stdout",
     "output_type": "stream",
     "text": [
      "Train\n",
      "Epoch 0, iteration 0, loss = 3.5058\n",
      "Validation:\n",
      "     Got 123 / 1000 correct (12.30%)\n",
      "Epoch 0, iteration 100, loss = 1.8554\n",
      "Validation:\n",
      "     Got 380 / 1000 correct (38.00%)\n",
      "Epoch 0, iteration 200, loss = 1.4708\n",
      "Validation:\n",
      "     Got 383 / 1000 correct (38.30%)\n",
      "Epoch 0, iteration 300, loss = 1.8823\n",
      "Validation:\n",
      "     Got 374 / 1000 correct (37.40%)\n",
      "Epoch 0, iteration 400, loss = 1.7595\n",
      "Validation:\n",
      "     Got 418 / 1000 correct (41.80%)\n",
      "Epoch 0, iteration 500, loss = 1.8051\n",
      "Validation:\n",
      "     Got 425 / 1000 correct (42.50%)\n",
      "Epoch 0, iteration 600, loss = 1.8447\n",
      "Validation:\n",
      "     Got 407 / 1000 correct (40.70%)\n",
      "Epoch 0, iteration 700, loss = 2.0199\n",
      "Validation:\n",
      "     Got 448 / 1000 correct (44.80%)\n",
      "Epoch 1, iteration 0, loss = 1.4824\n",
      "Validation:\n",
      "     Got 439 / 1000 correct (43.90%)\n",
      "Epoch 1, iteration 100, loss = 1.5277\n",
      "Validation:\n",
      "     Got 484 / 1000 correct (48.40%)\n",
      "Epoch 1, iteration 200, loss = 1.2103\n",
      "Validation:\n",
      "     Got 478 / 1000 correct (47.80%)\n",
      "Epoch 1, iteration 300, loss = 1.5512\n",
      "Validation:\n",
      "     Got 433 / 1000 correct (43.30%)\n",
      "Epoch 1, iteration 400, loss = 1.4472\n",
      "Validation:\n",
      "     Got 454 / 1000 correct (45.40%)\n",
      "Epoch 1, iteration 500, loss = 1.5966\n",
      "Validation:\n",
      "     Got 476 / 1000 correct (47.60%)\n",
      "Epoch 1, iteration 600, loss = 1.6526\n",
      "Validation:\n",
      "     Got 458 / 1000 correct (45.80%)\n",
      "Epoch 1, iteration 700, loss = 1.7258\n",
      "Validation:\n",
      "     Got 491 / 1000 correct (49.10%)\n",
      "Epoch 2, iteration 0, loss = 1.3021\n",
      "Validation:\n",
      "     Got 474 / 1000 correct (47.40%)\n",
      "Epoch 2, iteration 100, loss = 1.4187\n",
      "Validation:\n",
      "     Got 515 / 1000 correct (51.50%)\n",
      "Epoch 2, iteration 200, loss = 1.0918\n",
      "Validation:\n",
      "     Got 509 / 1000 correct (50.90%)\n",
      "Epoch 2, iteration 300, loss = 1.4031\n",
      "Validation:\n",
      "     Got 465 / 1000 correct (46.50%)\n",
      "Epoch 2, iteration 400, loss = 1.2886\n",
      "Validation:\n",
      "     Got 477 / 1000 correct (47.70%)\n",
      "Epoch 2, iteration 500, loss = 1.4794\n",
      "Validation:\n",
      "     Got 495 / 1000 correct (49.50%)\n",
      "Epoch 2, iteration 600, loss = 1.5132\n",
      "Validation:\n",
      "     Got 476 / 1000 correct (47.60%)\n",
      "Epoch 2, iteration 700, loss = 1.5599\n",
      "Validation:\n",
      "     Got 503 / 1000 correct (50.30%)\n",
      "Epoch 3, iteration 0, loss = 1.1799\n",
      "Validation:\n",
      "     Got 496 / 1000 correct (49.60%)\n",
      "Epoch 3, iteration 100, loss = 1.3316\n",
      "Validation:\n",
      "     Got 522 / 1000 correct (52.20%)\n",
      "Epoch 3, iteration 200, loss = 1.0014\n",
      "Validation:\n",
      "     Got 521 / 1000 correct (52.10%)\n",
      "Epoch 3, iteration 300, loss = 1.3002\n",
      "Validation:\n",
      "     Got 482 / 1000 correct (48.20%)\n",
      "Epoch 3, iteration 400, loss = 1.1676\n",
      "Validation:\n",
      "     Got 484 / 1000 correct (48.40%)\n",
      "Epoch 3, iteration 500, loss = 1.3922\n",
      "Validation:\n",
      "     Got 505 / 1000 correct (50.50%)\n",
      "Epoch 3, iteration 600, loss = 1.3922\n",
      "Validation:\n",
      "     Got 490 / 1000 correct (49.00%)\n",
      "Epoch 3, iteration 700, loss = 1.4400\n",
      "Validation:\n",
      "     Got 515 / 1000 correct (51.50%)\n",
      "Epoch 4, iteration 0, loss = 1.0874\n",
      "Validation:\n",
      "     Got 501 / 1000 correct (50.10%)\n",
      "Epoch 4, iteration 100, loss = 1.2586\n",
      "Validation:\n",
      "     Got 530 / 1000 correct (53.00%)\n",
      "Epoch 4, iteration 200, loss = 0.9134\n",
      "Validation:\n",
      "     Got 526 / 1000 correct (52.60%)\n",
      "Epoch 4, iteration 300, loss = 1.2179\n",
      "Validation:\n",
      "     Got 480 / 1000 correct (48.00%)\n",
      "Epoch 4, iteration 400, loss = 1.0749\n",
      "Validation:\n",
      "     Got 485 / 1000 correct (48.50%)\n",
      "Epoch 4, iteration 500, loss = 1.3061\n",
      "Validation:\n",
      "     Got 519 / 1000 correct (51.90%)\n",
      "Epoch 4, iteration 600, loss = 1.2857\n",
      "Validation:\n",
      "     Got 494 / 1000 correct (49.40%)\n",
      "Epoch 4, iteration 700, loss = 1.3472\n",
      "Validation:\n",
      "     Got 514 / 1000 correct (51.40%)\n",
      "Done!\n"
     ]
    }
   ],
   "source": [
    "\n",
    "def two_layer_fc_init():\n",
    "    \"\"\"\n",
    "    Initialize the weights of a two-layer network, for use with the\n",
    "    two_layer_network function defined above. \n",
    "    You can use the `create_matrix_with_kaiming_normal` helper!\n",
    "    \n",
    "    Inputs: None\n",
    "    \n",
    "    Returns: A list of:\n",
    "    - w1: TensorFlow tf.Variable giving the weights for the first layer\n",
    "    - w2: TensorFlow tf.Variable giving the weights for the second layer\n",
    "    \"\"\"\n",
    "    hidden_layer_size = 4000\n",
    "    w1 = tf.Variable(create_matrix_with_kaiming_normal((3 * 32 * 32, 4000)))\n",
    "    w2 = tf.Variable(create_matrix_with_kaiming_normal((4000, 10)))\n",
    "    return [w1, w2]\n",
    "\n",
    "learning_rate = 1e-2\n",
    "print('Train')\n",
    "trained_params = train_part2(two_layer_fc, two_layer_fc_init, learning_rate,5) # 5 epochs, 700 iterations, functions passed as arguments to be invoked later\n",
    "print('Done!')"
   ]
  },
  {
   "cell_type": "markdown",
   "metadata": {
    "colab_type": "text",
    "id": "IkkSQlJ_iybV"
   },
   "source": [
    "### Test Set - DO THIS ONLY ONCE\n",
    "Now that we've gotten a result that we're happy with, we test our final model on the test set. This would be the score we would achieve on a competition. Think about how this compares to your validation set accuracy."
   ]
  },
  {
   "cell_type": "code",
   "execution_count": 19,
   "metadata": {
    "colab": {
     "base_uri": "https://localhost:8080/",
     "height": 51
    },
    "colab_type": "code",
    "id": "pLbaUMxOiybW",
    "outputId": "f5478ada-af19-4869-ac15-249305c1197a"
   },
   "outputs": [
    {
     "name": "stdout",
     "output_type": "stream",
     "text": [
      "Test\n",
      "     Got 5014 / 10000 correct (50.14%)\n"
     ]
    }
   ],
   "source": [
    "print('Test')\n",
    "check_accuracy(test_dset, two_layer_fc, trained_params)"
   ]
  },
  {
   "cell_type": "markdown",
   "metadata": {
    "colab_type": "text",
    "id": "kmQbejJUiybY"
   },
   "source": [
    "### Barebones TensorFlow: Train a three-layer ConvNet\n",
    "We will now use TensorFlow to train a three-layer ConvNet on CIFAR-10.\n",
    "\n",
    "You need to implement the `three_layer_convnet_init` function. Recall that the architecture of the network is:\n",
    "\n",
    "1. Convolutional layer (with bias) with 32 5x5 filters, with zero-padding 2\n",
    "2. ReLU\n",
    "3. Convolutional layer (with bias) with 16 3x3 filters, with zero-padding 1\n",
    "4. ReLU\n",
    "5. Fully-connected layer (with bias) to compute scores for 10 classes\n",
    "\n",
    "You don't need to do any hyperparameter tuning, but you should see validation accuracies above 43% after one epoch of training."
   ]
  },
  {
   "cell_type": "code",
   "execution_count": 20,
   "metadata": {
    "colab": {
     "base_uri": "https://localhost:8080/",
     "height": 1000
    },
    "colab_type": "code",
    "id": "B5x4cv6uiybZ",
    "outputId": "d6830bf0-bc10-424e-b8a7-521d138f27ed"
   },
   "outputs": [
    {
     "name": "stdout",
     "output_type": "stream",
     "text": [
      "Epoch 0, iteration 0, loss = 3.6274\n",
      "Validation:\n",
      "     Got 101 / 1000 correct (10.10%)\n",
      "Epoch 0, iteration 100, loss = 2.0191\n",
      "Validation:\n",
      "     Got 309 / 1000 correct (30.90%)\n",
      "Epoch 0, iteration 200, loss = 1.8113\n",
      "Validation:\n",
      "     Got 355 / 1000 correct (35.50%)\n",
      "Epoch 0, iteration 300, loss = 1.7676\n",
      "Validation:\n",
      "     Got 364 / 1000 correct (36.40%)\n",
      "Epoch 0, iteration 400, loss = 1.8352\n",
      "Validation:\n",
      "     Got 400 / 1000 correct (40.00%)\n",
      "Epoch 0, iteration 500, loss = 1.7411\n",
      "Validation:\n",
      "     Got 425 / 1000 correct (42.50%)\n",
      "Epoch 0, iteration 600, loss = 1.6901\n",
      "Validation:\n",
      "     Got 448 / 1000 correct (44.80%)\n",
      "Epoch 0, iteration 700, loss = 1.7116\n",
      "Validation:\n",
      "     Got 451 / 1000 correct (45.10%)\n",
      "Epoch 1, iteration 0, loss = 1.5643\n",
      "Validation:\n",
      "     Got 464 / 1000 correct (46.40%)\n",
      "Epoch 1, iteration 100, loss = 1.4849\n",
      "Validation:\n",
      "     Got 464 / 1000 correct (46.40%)\n",
      "Epoch 1, iteration 200, loss = 1.3960\n",
      "Validation:\n",
      "     Got 467 / 1000 correct (46.70%)\n",
      "Epoch 1, iteration 300, loss = 1.5281\n",
      "Validation:\n",
      "     Got 459 / 1000 correct (45.90%)\n",
      "Epoch 1, iteration 400, loss = 1.5179\n",
      "Validation:\n",
      "     Got 487 / 1000 correct (48.70%)\n",
      "Epoch 1, iteration 500, loss = 1.5727\n",
      "Validation:\n",
      "     Got 469 / 1000 correct (46.90%)\n",
      "Epoch 1, iteration 600, loss = 1.5496\n",
      "Validation:\n",
      "     Got 484 / 1000 correct (48.40%)\n",
      "Epoch 1, iteration 700, loss = 1.5701\n",
      "Validation:\n",
      "     Got 485 / 1000 correct (48.50%)\n",
      "Epoch 2, iteration 0, loss = 1.3618\n",
      "Validation:\n",
      "     Got 495 / 1000 correct (49.50%)\n",
      "Epoch 2, iteration 100, loss = 1.3507\n",
      "Validation:\n",
      "     Got 494 / 1000 correct (49.40%)\n",
      "Epoch 2, iteration 200, loss = 1.2195\n",
      "Validation:\n",
      "     Got 501 / 1000 correct (50.10%)\n",
      "Epoch 2, iteration 300, loss = 1.4608\n",
      "Validation:\n",
      "     Got 482 / 1000 correct (48.20%)\n",
      "Epoch 2, iteration 400, loss = 1.3722\n",
      "Validation:\n",
      "     Got 504 / 1000 correct (50.40%)\n",
      "Epoch 2, iteration 500, loss = 1.4699\n",
      "Validation:\n",
      "     Got 494 / 1000 correct (49.40%)\n",
      "Epoch 2, iteration 600, loss = 1.5049\n",
      "Validation:\n",
      "     Got 512 / 1000 correct (51.20%)\n",
      "Epoch 2, iteration 700, loss = 1.5120\n",
      "Validation:\n",
      "     Got 501 / 1000 correct (50.10%)\n",
      "Epoch 3, iteration 0, loss = 1.2703\n",
      "Validation:\n",
      "     Got 517 / 1000 correct (51.70%)\n",
      "Epoch 3, iteration 100, loss = 1.2838\n",
      "Validation:\n",
      "     Got 512 / 1000 correct (51.20%)\n",
      "Epoch 3, iteration 200, loss = 1.1160\n",
      "Validation:\n",
      "     Got 502 / 1000 correct (50.20%)\n",
      "Epoch 3, iteration 300, loss = 1.4156\n",
      "Validation:\n",
      "     Got 515 / 1000 correct (51.50%)\n",
      "Epoch 3, iteration 400, loss = 1.2868\n",
      "Validation:\n",
      "     Got 512 / 1000 correct (51.20%)\n",
      "Epoch 3, iteration 500, loss = 1.3941\n",
      "Validation:\n",
      "     Got 513 / 1000 correct (51.30%)\n",
      "Epoch 3, iteration 600, loss = 1.4752\n",
      "Validation:\n",
      "     Got 528 / 1000 correct (52.80%)\n",
      "Epoch 3, iteration 700, loss = 1.4700\n",
      "Validation:\n",
      "     Got 514 / 1000 correct (51.40%)\n",
      "Epoch 4, iteration 0, loss = 1.2189\n",
      "Validation:\n",
      "     Got 526 / 1000 correct (52.60%)\n",
      "Epoch 4, iteration 100, loss = 1.2292\n",
      "Validation:\n",
      "     Got 520 / 1000 correct (52.00%)\n",
      "Epoch 4, iteration 200, loss = 1.0558\n",
      "Validation:\n",
      "     Got 518 / 1000 correct (51.80%)\n",
      "Epoch 4, iteration 300, loss = 1.3681\n",
      "Validation:\n",
      "     Got 529 / 1000 correct (52.90%)\n",
      "Epoch 4, iteration 400, loss = 1.2200\n",
      "Validation:\n",
      "     Got 525 / 1000 correct (52.50%)\n",
      "Epoch 4, iteration 500, loss = 1.3436\n",
      "Validation:\n",
      "     Got 526 / 1000 correct (52.60%)\n",
      "Epoch 4, iteration 600, loss = 1.4424\n",
      "Validation:\n",
      "     Got 533 / 1000 correct (53.30%)\n",
      "Epoch 4, iteration 700, loss = 1.4224\n",
      "Validation:\n",
      "     Got 523 / 1000 correct (52.30%)\n"
     ]
    }
   ],
   "source": [
    "def three_layer_convnet_init():\n",
    "    \"\"\"\n",
    "    Initialize the weights of a Three-Layer ConvNet, for use with the\n",
    "    three_layer_convnet function defined above.\n",
    "    You can use the `create_matrix_with_kaiming_normal` helper!\n",
    "    \n",
    "    Inputs: None\n",
    "    \n",
    "    Returns a list containing:\n",
    "    - conv_w1: TensorFlow tf.Variable giving weights for the first conv layer\n",
    "    - conv_b1: TensorFlow tf.Variable giving biases for the first conv layer\n",
    "    - conv_w2: TensorFlow tf.Variable giving weights for the second conv layer\n",
    "    - conv_b2: TensorFlow tf.Variable giving biases for the second conv layer\n",
    "    - fc_w: TensorFlow tf.Variable giving weights for the fully-connected layer\n",
    "    - fc_b: TensorFlow tf.Variable giving biases for the fully-connected layer\n",
    "    \"\"\"\n",
    "    params = None\n",
    "    ############################################################################\n",
    "    # TODO: Initialize the parameters of the three-layer network.              #\n",
    "    ############################################################################\n",
    "    # *****START OF YOUR CODE (DO NOT DELETE/MODIFY THIS LINE)*****\n",
    "\n",
    "    conv_w1 = tf.Variable(create_matrix_with_kaiming_normal((5, 5, 3, 16)))\n",
    "    conv_b1 = tf.Variable(tf.zeros([16]))\n",
    "    conv_w2 = tf.Variable(create_matrix_with_kaiming_normal((3, 3, 16, 8)))\n",
    "    conv_b2 = tf.Variable(tf.zeros([8]))\n",
    "    fc_w = tf.Variable(create_matrix_with_kaiming_normal((32 * 32 * 8, 10)))\n",
    "    fc_b = tf.Variable(tf.zeros([10]))\n",
    "    params = [conv_w1, conv_b1, conv_w2, conv_b2, fc_w, fc_b]\n",
    "\n",
    "    # *****END OF YOUR CODE (DO NOT DELETE/MODIFY THIS LINE)*****\n",
    "    ############################################################################\n",
    "    #                             END OF YOUR CODE                             #\n",
    "    ############################################################################\n",
    "    return params\n",
    "\n",
    "learning_rate = 3e-3\n",
    "training_3_layer = train_part2(three_layer_convnet, three_layer_convnet_init, learning_rate,5)"
   ]
  },
  {
   "cell_type": "markdown",
   "metadata": {
    "colab_type": "text",
    "id": "3e-iPjvNiybb"
   },
   "source": [
    "# Part V: Train a _GREAT_ model on CIFAR-10!\n",
    "\n",
    "In this section you can experiment with whatever ConvNet architecture you'd like on CIFAR-10.\n",
    "\n",
    "You should experiment with architectures, hyperparameters, loss functions, regularization, or anything else you can think of to train a model that achieves **at least 70%** accuracy on the **validation** set within 10 epochs. You can use the built-in train function, the `train_part34` function from above, or implement your own training loop.\n",
    "\n",
    "Describe what you did at the end of the notebook.\n",
    "\n",
    "### Some things you can try:\n",
    "- **Filter size**: Above we used 5x5 and 3x3; is this optimal?\n",
    "- **Number of filters**: Above we used 16 and 32 filters. Would more or fewer do better?\n",
    "- **Pooling**: We didn't use any pooling above. Would this improve the model?\n",
    "- **Normalization**: Would your model be improved with batch normalization, layer normalization, group normalization, or some other normalization strategy?\n",
    "- **Network architecture**: The ConvNet above has only three layers of trainable parameters. Would a deeper model do better? Good architectures to try include:\n",
    "    - [conv-relu-pool]xN -> [affine]xM -> [softmax or SVM]\n",
    "    - [conv-relu-conv-relu-pool]xN -> [affine]xM -> [softmax or SVM]\n",
    "    - [batchnorm-relu-conv]xN -> [affine]xM -> [softmax or SVM]\n",
    "- **Global average pooling**: Instead of flattening after the final convolutional layer, would global average pooling do better? This strategy is used for example in Google's Inception network and in Residual Networks.\n",
    "- **Regularization**: Would some kind of regularization improve performance? Maybe weight decay or dropout?\n",
    "\n",
    "### NOTE: Batch Normalization / Dropout\n",
    "If you are using Batch Normalization and Dropout, remember to pass `is_training=True` if you use the `train_part34()` function. BatchNorm and Dropout layers have different behaviors at training and inference time. `training` is a specific keyword argument reserved for this purpose in any `tf.keras.Model`'s `call()` function. Read more about this here : https://www.tensorflow.org/versions/r2.0/api_docs/python/tf/keras/layers/BatchNormalization#methods\n",
    "https://www.tensorflow.org/versions/r2.0/api_docs/python/tf/keras/layers/Dropout#methods\n",
    "\n",
    "### Tips for training\n",
    "For each network architecture that you try, you should tune the learning rate and other hyperparameters. When doing this there are a couple important things to keep in mind: \n",
    "\n",
    "- If the parameters are working well, you should see improvement within a few hundred iterations\n",
    "- Remember the coarse-to-fine approach for hyperparameter tuning: start by testing a large range of hyperparameters for just a few training iterations to find the combinations of parameters that are working at all.\n",
    "- Once you have found some sets of parameters that seem to work, search more finely around these parameters. You may need to train for more epochs.\n",
    "- You should use the validation set for hyperparameter search, and save your test set for evaluating your architecture on the best parameters as selected by the validation set.\n",
    "\n",
    "### Going above and beyond\n",
    "If you are feeling adventurous there are many other features you can implement to try and improve your performance. You are **not required** to implement any of these, but don't miss the fun if you have time!\n",
    "\n",
    "- Alternative optimizers: you can try Adam, Adagrad, RMSprop, etc.\n",
    "- Alternative activation functions such as leaky ReLU, parametric ReLU, ELU, or MaxOut.\n",
    "- Model ensembles\n",
    "- Data augmentation\n",
    "- New Architectures\n",
    "  - [ResNets](https://arxiv.org/abs/1512.03385) where the input from the previous layer is added to the output.\n",
    "  - [DenseNets](https://arxiv.org/abs/1608.06993) where inputs into previous layers are concatenated together.\n",
    "  - [This blog has an in-depth overview](https://chatbotslife.com/resnets-highwaynets-and-densenets-oh-my-9bb15918ee32)\n",
    "  \n",
    "### Have fun and happy training! "
   ]
  },
  {
   "cell_type": "code",
   "execution_count": 0,
   "metadata": {
    "colab": {},
    "colab_type": "code",
    "id": "W_Cq4fPeAnC_"
   },
   "outputs": [],
   "source": [
    "# def training_step_with_optimizer(model_fn, optimizer_init_fn , x, y, learning_rate,is_training):\n",
    "#     with tf.GradientTape() as tape:\n",
    "#         optimizer = optimizer_init_fn()\n",
    "#         print('asd')\n",
    "#         scores = model_fn(x,is_training) # Forward pass of the model , Training =True\n",
    "#         print('asd')\n",
    "#         loss = tf.nn.sparse_softmax_cross_entropy_with_logits(labels=y, logits=scores)\n",
    "#         total_loss = tf.reduce_mean(loss)\n",
    "#         train_op = optimizer.minimize(total_loss) \n",
    "#         # grad_params = tape.gradient(total_loss, params)\n",
    "\n",
    "#         # Make a vanilla gradient descent step on all of the model parameters\n",
    "#         # Manually update the weights using assign_sub()\n",
    "#         # for w, grad_w in zip(params, grad_params):\n",
    "#         #     w.assign_sub(learning_rate * grad_w)\n",
    "\n",
    "#         # opt.apply_gradients(zip(params, grad_params)) \n",
    "\n",
    "\n",
    "#         # # Process the gradients, for example cap them, etc.\n",
    "#         # # capped_grads = [MyCapper(g) for g in grads]\n",
    "#         # processed_grads = [process_gradient(g) for g in grads]\n",
    "\n",
    "#         # Ask the optimizer to apply the processed gradients.\n",
    "                              \n",
    "#         return total_loss\n",
    "\n",
    "# def train_part2(model_fn, init_fn, learning_rate, epochs):\n",
    "  \n",
    "    \n",
    "#     params = init_fn()  # Initialize the model parameters            \n",
    "#     for e in range(epochs):    \n",
    "#         for t, (x_np, y_np) in enumerate(train_dset):\n",
    "#             # Run the graph on a batch of training data.\n",
    "#             loss = training_step(model_fn, x_np, y_np, params, learning_rate)\n",
    "\n",
    "#             # Periodically print the loss and check accuracy on the val set.\n",
    "#             if t % print_every == 0:\n",
    "#                 print('Epoch %d, iteration %d, loss = %.4f' % (e, t, loss))\n",
    "#                 print('Validation:')\n",
    "#                 check_accuracy(val_dset, model_fn, params)\n",
    "#     return params\n",
    "\n",
    "\n",
    "\n",
    "#  optimizer = optimizer_init_fn()    \n",
    "#     for e in range(num_epochs):    \n",
    "#         for t, (x_np, y_np) in enumerate(train_dset):\n",
    "#             # Run the graph on a batch of training data.\n",
    "#             # loss = training_step(model_init_fn, x_np, y_np, params, learning_rate)\n",
    "      \n",
    "            \n",
    "#             scores = model_init_fn(x_np,True) # Forward pass of the model , Training =True\n",
    "#             loss = tf.nn.sparse_softmax_cross_entropy_with_logits(labels=y_np, logits=scores)\n",
    "#             total_loss = tf.reduce_mean(loss)\n",
    "#             # train_op = optimizer.minimize(total_loss) \n",
    "#             print('asd')\n",
    "#             # Periodically print the loss and check accuracy on the val set.\n",
    "#             if t % print_every == 0:\n",
    "\n",
    "#                 print('Epoch %d, iteration %d, loss = %.4f' % (e, t, loss))\n",
    "#                 print('Validation:')\n",
    "#                 check_accuracy(val_dset, model_init_fn, model_init_fn.get_weights)\n",
    "#     return params\n",
    "\n",
    "\n",
    "\n",
    " # optimizer = optimizer_init_fn()           \n",
    "  # for e in range(num_epochs):    \n",
    "  #     for t, (x_np, y_np) in enumerate(train_dset):\n",
    "  #         # print(x_np,y_np)\n",
    "          \n",
    "  #         # Run the graph on a batch of training data.\n",
    "  #         loss,scores = training_step_with_optimizer(model_init_fn,optimizer_init_fn, x_np, y_np, learning_rate,is_training)\n",
    "          \n",
    "  #         # optimizer.minimize(loss)\n",
    "\n",
    "  #         # Periodically print the loss and check accuracy on the val set.\n",
    "  #         if t % print_every == 0:\n",
    "  #             print('Epoch %d, iteration %d, loss = %.4f' % (e, t, loss))\n",
    "  #             print('Validation:')\n",
    "  #             check_accuracy1(val_dset, model_init_fn, scores)\n",
    "  # return #params "
   ]
  },
  {
   "cell_type": "code",
   "execution_count": 0,
   "metadata": {
    "colab": {},
    "colab_type": "code",
    "id": "CjkDYjjSwXtX"
   },
   "outputs": [],
   "source": [
    "#  def check_accuracy1(dset, x, scores):\n",
    "#     num_correct, num_samples = 0, 0\n",
    "#     for x_batch, y_batch in dset:\n",
    "#         # feed_dict = {x: x_batch, is_training: 0}\n",
    "#         # scores_np = sess.run(scores, feed_dict=feed_dict)\n",
    "#         scores_np = scores\n",
    "#         # print(scores)\n",
    "#         y_pred = scores_np.argmax(axis=1)\n",
    "#         num_samples += x_batch.shape[0]\n",
    "#         # print(y_pred)\n",
    "#         # print(y_batch)\n",
    "#         num_correct = sum(1 for a, b in zip(y_pred, y_batch) if a == b)\n",
    "#         # num_correct += (y_pred == y_batch).sum()\n",
    "#     acc = float(num_correct) / num_samples\n",
    "#     print('finished checking accuracy')\n",
    "#     print('Got %d / %d correct (%.2f%%)' % (num_correct, num_samples, 100 * acc))\n",
    "\n",
    "    # def training_step_with_optimizer(model_fn, optimizer_init_fn , x, y, learning_rate,is_training):\n",
    "#     with tf.GradientTape() as tape:\n",
    "#         optimizer = optimizer_init_fn()\n",
    "#         print('asd1')\n",
    "#         scores = model_fn(x,is_training) # Forward pass of the model , Training =True\n",
    "#         loss = tf.nn.sparse_softmax_cross_entropy_with_logits(labels=y, logits=scores)\n",
    "#         total_loss = tf.reduce_mean(loss)\n",
    "#         # train_op = optimizer.minimize(total_loss) \n",
    "        \n",
    "                              \n",
    "#         return total_loss,scores.numpy()"
   ]
  },
  {
   "cell_type": "code",
   "execution_count": 0,
   "metadata": {
    "colab": {},
    "colab_type": "code",
    "id": "oi1TGT_Liybb"
   },
   "outputs": [],
   "source": [
    "\n",
    "\n",
    "\n",
    "def train_part34(model_init_fn, optimizer_init_fn, num_epochs=1, is_training=False):\n",
    "\n",
    "############################################################################\n",
    "# TODO: Train a model on CIFAR-10.                 #\n",
    "############################################################################\n",
    "#*****START OF YOUR CODE (DO NOT DELETE/MODIFY THIS LINE)***** \n",
    "  model = model_init_fn()\n",
    "  opt = optimizer_init_fn()\n",
    "  model.compile(optimizer=opt, loss=tf.keras.losses.SparseCategoricalCrossentropy(), metrics=['accuracy']) \n",
    "  loss = model.fit(X_train, y_train, batch_size=64, epochs=num_epochs, validation_data=(X_val, y_val))\n",
    "  return model\n",
    "# *****END OF YOUR CODE (DO NOT DELETE/MODIFY THIS LINE)*****\n",
    "############################################################################\n",
    "#                            END OF YOUR CODE                              #\n",
    "############################################################################"
   ]
  },
  {
   "cell_type": "code",
   "execution_count": 48,
   "metadata": {
    "colab": {
     "base_uri": "https://localhost:8080/",
     "height": 561
    },
    "colab_type": "code",
    "id": "FOvtBHDYiybd",
    "outputId": "0647122a-77f9-4d41-fe6d-91cc7a206ec8"
   },
   "outputs": [
    {
     "name": "stdout",
     "output_type": "stream",
     "text": [
      "Train\n",
      "calling\n",
      "done calling\n",
      "Train on 49000 samples, validate on 1000 samples\n",
      "Epoch 1/10\n",
      "calling\n",
      "done calling\n",
      "calling\n",
      "done calling\n",
      "48896/49000 [============================>.] - ETA: 0s - loss: 1.6498 - accuracy: 0.3710calling\n",
      "done calling\n",
      "49000/49000 [==============================] - 14s 283us/sample - loss: 1.6493 - accuracy: 0.3713 - val_loss: 1.3405 - val_accuracy: 0.5080\n",
      "Epoch 2/10\n",
      "49000/49000 [==============================] - 13s 269us/sample - loss: 1.2330 - accuracy: 0.5626 - val_loss: 1.0815 - val_accuracy: 0.6060\n",
      "Epoch 3/10\n",
      "49000/49000 [==============================] - 13s 269us/sample - loss: 1.0551 - accuracy: 0.6340 - val_loss: 1.0056 - val_accuracy: 0.6510\n",
      "Epoch 4/10\n",
      "49000/49000 [==============================] - 13s 275us/sample - loss: 0.9521 - accuracy: 0.6726 - val_loss: 0.9270 - val_accuracy: 0.6700\n",
      "Epoch 5/10\n",
      "49000/49000 [==============================] - 13s 270us/sample - loss: 0.8762 - accuracy: 0.7028 - val_loss: 0.8488 - val_accuracy: 0.7110\n",
      "Epoch 6/10\n",
      "49000/49000 [==============================] - 13s 272us/sample - loss: 0.8164 - accuracy: 0.7240 - val_loss: 0.8506 - val_accuracy: 0.6980\n",
      "Epoch 7/10\n",
      "49000/49000 [==============================] - 13s 272us/sample - loss: 0.7682 - accuracy: 0.7393 - val_loss: 0.9064 - val_accuracy: 0.7060\n",
      "Epoch 8/10\n",
      "49000/49000 [==============================] - 13s 272us/sample - loss: 0.7313 - accuracy: 0.7512 - val_loss: 0.8320 - val_accuracy: 0.7310\n",
      "Epoch 9/10\n",
      "49000/49000 [==============================] - 13s 270us/sample - loss: 0.6971 - accuracy: 0.7624 - val_loss: 0.7889 - val_accuracy: 0.7270\n",
      "Epoch 10/10\n",
      "49000/49000 [==============================] - 13s 270us/sample - loss: 0.6661 - accuracy: 0.7751 - val_loss: 0.8521 - val_accuracy: 0.7280\n",
      "Test\n",
      "10000/10000 [==============================] - 1s 115us/sample - loss: 0.9068 - accuracy: 0.7140\n"
     ]
    }
   ],
   "source": [
    "class CustomConvNet(tf.keras.Model):\n",
    "    def __init__(self):\n",
    "        super(CustomConvNet, self).__init__()\n",
    "        ############################################################################\n",
    "        # TODO: Construct a model that performs well on CIFAR-10                   #\n",
    "        ############################################################################\n",
    "        # *****START OF YOUR CODE (DO NOT DELETE/MODIFY THIS LINE)*****\n",
    "     \n",
    "\n",
    "        ## I Followed the AlexNet Architecture, with different kernel size.\n",
    "\n",
    "        self.conv1 =  tf.keras.layers.Conv2D(filters=32, kernel_size=(3,3), padding='same')\n",
    "        self.relu1 = tf.keras.layers.Activation(\"relu\")\n",
    "        self.pool1 = tf.keras.layers.MaxPooling2D(pool_size=(2,2),strides=(2,2),padding='same')\n",
    "        \n",
    "        self.conv2 = tf.keras.layers.Conv2D(filters=32, kernel_size=(3,3), padding='same')\n",
    "        self.relu2 = tf.keras.layers.Activation(\"relu\")\n",
    "        self.pool2 = tf.keras.layers.MaxPooling2D(pool_size=(2,2),strides=(2,2),padding='same')\n",
    "        \n",
    "        self.conv3 = tf.keras.layers.Conv2D(filters=64,kernel_size=(3,3), strides=(1,1))\n",
    "        self.relu3 = tf.keras.layers.Activation(\"relu\")\n",
    "\n",
    "        self.conv4 = tf.keras.layers.Conv2D(filters=64,kernel_size=(3,3), strides=(1,1), padding='same')\n",
    "        self.relu4 = tf.keras.layers.Activation(\"relu\")\n",
    "\n",
    "        self.conv5 = tf.keras.layers.Conv2D(filters=128,kernel_size=(3,3), strides=(1,1), padding='same')\n",
    "        self.relu5 = tf.keras.layers.Activation(\"relu\")\n",
    "        self.pool5 = tf.keras.layers.MaxPooling2D(pool_size=(2,2),strides=(2,2),padding='same')\n",
    "        \n",
    "        self.flatten = tf.keras.layers.Flatten()\n",
    "\n",
    "        self.dense1 = tf.keras.layers.Dense(4096)\n",
    "        self.relu6 = tf.keras.layers.Activation(\"relu\")\n",
    "        self.do1 =tf.keras.layers.Dropout(0.5)\n",
    "\n",
    "        self.dense2 = tf.keras.layers.Dense(4096)\n",
    "        self.relu7 = tf.keras.layers.Activation(\"relu\")\n",
    "        self.do2 =tf.keras.layers.Dropout(0.5)\n",
    "\n",
    "        self.dense3 = tf.keras.layers.Dense(1000)\n",
    "        self.relu8 = tf.keras.layers.Activation(\"relu\")\n",
    "        self.do3 =tf.keras.layers.Dropout(0.5)\n",
    "\n",
    "\n",
    "        self.final = tf.keras.layers.Dense(10)\n",
    "        self.scores = tf.keras.layers.Activation(\"softmax\")\n",
    "        \n",
    "\n",
    "\n",
    "        # *****END OF YOUR CODE (DO NOT DELETE/MODIFY THIS LINE)*****\n",
    "        ############################################################################\n",
    "        #                            END OF YOUR CODE                              #\n",
    "        ############################################################################\n",
    "    \n",
    "    def call(self, input_tensor):\n",
    "        ############################################################################\n",
    "        # TODO: Construct a model that performs well on CIFAR-10                   #\n",
    "        ############################################################################\n",
    "        # *****START OF YOUR CODE (DO NOT DELETE/MODIFY THIS LINE)*****\n",
    "        print('calling')\n",
    "        x = self.conv1(input_tensor)\n",
    "        x = self.relu1(x)\n",
    "        x = self.pool1(x)\n",
    "        \n",
    "        x = self.conv2(x)\n",
    "        x = self.relu2(x)\n",
    "        x = self.pool2(x)\n",
    "\n",
    "        x = self.conv3(x)\n",
    "        x = self.relu3(x)\n",
    "\n",
    "        x = self.conv4(x)\n",
    "        x = self.relu4(x)\n",
    "\n",
    "        x = self.conv5(x)\n",
    "        x = self.relu5(x)\n",
    "        x = self.pool5(x)\n",
    "\n",
    "        x = self.flatten(x)\n",
    "\n",
    "        x = self.dense1(x)\n",
    "        x = self.relu6(x)\n",
    "        x = self.do1(x)\n",
    "\n",
    "        x = self.dense2(x)\n",
    "        x = self.relu7(x)\n",
    "        x = self.do2(x)\n",
    "\n",
    "\n",
    "\n",
    "        x = self.dense3(x)\n",
    "        x = self.relu8(x)\n",
    "        x = self.do3(x)\n",
    "      \n",
    "        x = self.final(x)\n",
    "        x = self.scores(x)\n",
    "        print('done calling')\n",
    "\n",
    "        # x += input_tensor\n",
    "        # return tf.nn.relu(x)\n",
    "       \n",
    "\n",
    "        # *****END OF YOUR CODE (DO NOT DELETE/MODIFY THIS LINE)*****\n",
    "        ############################################################################\n",
    "        #                            END OF YOUR CODE                              #\n",
    "        ############################################################################\n",
    "        \n",
    "        return x\n",
    "\n",
    "device = '/device:GPU:0'   # Change this to a CPU/GPU as you wish!\n",
    "# device = '/cpu:0'        # Change this to a CPU/GPU as you wish!\n",
    "print_every = 700\n",
    "num_epochs = 10\n",
    "\n",
    "# model = CustomConvNet()\n",
    "\n",
    "def model_init_fn():\n",
    "    model = CustomConvNet()\n",
    "    return model\n",
    "\n",
    "def optimizer_init_fn():\n",
    "    learning_rate = 1e-3\n",
    "    return tf.keras.optimizers.Adam(learning_rate)\n",
    "\n",
    "print('Train')\n",
    "my_model =train_part34(model_init_fn, optimizer_init_fn, num_epochs=num_epochs, is_training=True)\n",
    "\n",
    "def check_accuracy1(model,X_test, y_test):\n",
    "  my_model.evaluate(X_test, y_test)\n",
    "\n",
    "\n",
    "\n",
    "\n",
    "\n",
    "print('Test')\n",
    "check_accuracy1(my_model, X_test, y_test)\n"
   ]
  },
  {
   "cell_type": "code",
   "execution_count": 50,
   "metadata": {
    "colab": {
     "base_uri": "https://localhost:8080/",
     "height": 1000
    },
    "colab_type": "code",
    "id": "sDE_h0FxdHHj",
    "outputId": "b139e570-f2df-4f8f-936a-e754b811d52e"
   },
   "outputs": [
    {
     "name": "stdout",
     "output_type": "stream",
     "text": [
      "Model: \"custom_conv_net_18\"\n",
      "_________________________________________________________________\n",
      "Layer (type)                 Output Shape              Param #   \n",
      "=================================================================\n",
      "conv2d_68 (Conv2D)           multiple                  896       \n",
      "_________________________________________________________________\n",
      "activation_104 (Activation)  multiple                  0         \n",
      "_________________________________________________________________\n",
      "max_pooling2d_44 (MaxPooling multiple                  0         \n",
      "_________________________________________________________________\n",
      "conv2d_69 (Conv2D)           multiple                  9248      \n",
      "_________________________________________________________________\n",
      "activation_105 (Activation)  multiple                  0         \n",
      "_________________________________________________________________\n",
      "max_pooling2d_45 (MaxPooling multiple                  0         \n",
      "_________________________________________________________________\n",
      "conv2d_70 (Conv2D)           multiple                  18496     \n",
      "_________________________________________________________________\n",
      "activation_106 (Activation)  multiple                  0         \n",
      "_________________________________________________________________\n",
      "conv2d_71 (Conv2D)           multiple                  36928     \n",
      "_________________________________________________________________\n",
      "activation_107 (Activation)  multiple                  0         \n",
      "_________________________________________________________________\n",
      "conv2d_72 (Conv2D)           multiple                  73856     \n",
      "_________________________________________________________________\n",
      "activation_108 (Activation)  multiple                  0         \n",
      "_________________________________________________________________\n",
      "max_pooling2d_46 (MaxPooling multiple                  0         \n",
      "_________________________________________________________________\n",
      "flatten_17 (Flatten)         multiple                  0         \n",
      "_________________________________________________________________\n",
      "dense_46 (Dense)             multiple                  4722688   \n",
      "_________________________________________________________________\n",
      "activation_109 (Activation)  multiple                  0         \n",
      "_________________________________________________________________\n",
      "dropout_45 (Dropout)         multiple                  0         \n",
      "_________________________________________________________________\n",
      "dense_47 (Dense)             multiple                  16781312  \n",
      "_________________________________________________________________\n",
      "activation_110 (Activation)  multiple                  0         \n",
      "_________________________________________________________________\n",
      "dropout_46 (Dropout)         multiple                  0         \n",
      "_________________________________________________________________\n",
      "dense_48 (Dense)             multiple                  4097000   \n",
      "_________________________________________________________________\n",
      "activation_111 (Activation)  multiple                  0         \n",
      "_________________________________________________________________\n",
      "dropout_47 (Dropout)         multiple                  0         \n",
      "_________________________________________________________________\n",
      "dense_49 (Dense)             multiple                  10010     \n",
      "_________________________________________________________________\n",
      "activation_112 (Activation)  multiple                  0         \n",
      "=================================================================\n",
      "Total params: 25,750,434\n",
      "Trainable params: 25,750,434\n",
      "Non-trainable params: 0\n",
      "_________________________________________________________________\n"
     ]
    }
   ],
   "source": [
    "my_model.summary()"
   ]
  },
  {
   "cell_type": "markdown",
   "metadata": {
    "colab_type": "text",
    "id": "e0t27fWeiybg",
    "tags": [
     "pdf-inline"
    ]
   },
   "source": [
    "## Describe what you did \n",
    "\n",
    "In the cell below you should write an explanation of what you did, any additional features that you implemented, and/or any graphs that you made in the process of training and evaluating your network."
   ]
  },
  {
   "cell_type": "markdown",
   "metadata": {
    "colab_type": "text",
    "id": "UFd-dLnUiybi",
    "tags": [
     "pdf-inline"
    ]
   },
   "source": [
    "\n",
    "\n",
    "```\n",
    "# This is formatted as code\n",
    "```\n",
    "\n",
    "TODO: Tell us what you did\n",
    "\n",
    "Below is a simplified version of AlexNet with the following layers:\n",
    "\n",
    "\n",
    "1. **convolution layer**( -> filter: 3x3 , activation:relu , no_of_filter:32\n",
    "2. **Max pooling layer** -> pool size: 2x2 , stride: 2 \n",
    "3. **convolution layer**( -> filter: 3x3 , activation:relu , no_of_filter:32\n",
    "4. **Max pooling layer** -> pool size: 2x2 , stride: 2 \n",
    "5. **convolution layer**( -> filter: 3x3 , activation:relu, no_of_filter:64\n",
    "6. **convolution layer**( -> filter: 3x3 , activation:relu , no_of_filter:64\n",
    "7. **convolution layer**( -> filter: 3x3 , activation:relu , no_of_filter:128\n",
    "8. **Max pooling layer** -> pool size: 2x2 , stride: 2 \n",
    "9. **dense layer** -> 4096 units with relu activation and dropout(0.4)\n",
    "10. **dense layer** -> 4096 units with relu activation and dropout(0.4)\n",
    "11. **dense layer** -> 1000 units with relu activation and dropout(0.4)\n",
    "9. **final connected/dense layer** -> 10 units with softmax activation\n"
   ]
  },
  {
   "cell_type": "code",
   "execution_count": 0,
   "metadata": {
    "colab": {},
    "colab_type": "code",
    "id": "btsdjKxYgfBp"
   },
   "outputs": [],
   "source": []
  }
 ],
 "metadata": {
  "accelerator": "GPU",
  "colab": {
   "collapsed_sections": [],
   "name": "TensorFlow.ipynb",
   "provenance": []
  },
  "kernelspec": {
   "display_name": "Python 3",
   "language": "python",
   "name": "python3"
  },
  "language_info": {
   "codemirror_mode": {
    "name": "ipython",
    "version": 3
   },
   "file_extension": ".py",
   "mimetype": "text/x-python",
   "name": "python",
   "nbconvert_exporter": "python",
   "pygments_lexer": "ipython3",
   "version": "3.7.3"
  }
 },
 "nbformat": 4,
 "nbformat_minor": 1
}
